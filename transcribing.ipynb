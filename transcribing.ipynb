{
 "cells": [
  {
   "cell_type": "code",
   "execution_count": 1,
   "id": "16be0c42-3bf2-43cb-8c49-f63912733b3b",
   "metadata": {},
   "outputs": [],
   "source": [
    "import warnings\n",
    "warnings.filterwarnings(\"ignore\", category=UserWarning)"
   ]
  },
  {
   "cell_type": "code",
   "execution_count": 2,
   "id": "7730f876-37d6-4431-aa6d-ccc6c5a773ec",
   "metadata": {},
   "outputs": [
    {
     "name": "stdout",
     "output_type": "stream",
     "text": [
      "Running on cuda\n"
     ]
    }
   ],
   "source": [
    "import torch\n",
    "device = \"cuda\" if torch.cuda.is_available() else \"cpu\"\n",
    "print(f\"Running on {device}\")"
   ]
  },
  {
   "cell_type": "code",
   "execution_count": 3,
   "id": "7a7eb2a5-0997-4f57-b82e-0d9c8cd249d1",
   "metadata": {},
   "outputs": [],
   "source": [
    "import whisper\n",
    "model = whisper.load_model(\"large\", download_root=\"models\").to(device=device) # load \"large\" model"
   ]
  },
  {
   "cell_type": "code",
   "execution_count": 4,
   "id": "cdda7a8e-5c72-43d7-9f16-5417f828e781",
   "metadata": {},
   "outputs": [],
   "source": [
    "import os\n",
    "import pandas as pd\n",
    "import time\n",
    "import json"
   ]
  },
  {
   "cell_type": "code",
   "execution_count": 5,
   "id": "503aeb5f-2247-4fb9-b570-e14cc0cd3a53",
   "metadata": {},
   "outputs": [],
   "source": [
   ]
  },
  {
   "cell_type": "code",
   "execution_count": 6,
   "id": "15c6e085-82ab-44a0-9337-68065c572eb5",
   "metadata": {},
   "outputs": [
    {
     "name": "stdout",
     "output_type": "stream",
     "text": [
      "Transcribing Zaman Makinesi 1973 _ Gürgen Öz, Seda Bakan.mp3\n",
      "Writing...\n",
      "Transcribing Zıkkımın Kökü _ Türk Filmi 1992.mp3\n",
      "Writing...\n",
      "Transcribing Çakal   türk filmleri 2013 tek parça 1.mp3\n",
      "Writing...\n",
      "Transcribing Çöpçüler Kralı _ FULL HD.mp3\n",
      "Writing...\n",
      "Transcribing Ölümlü Dünya _ Feyyaz Yiğit FULL HD Komedi Filmi İzle.mp3\n",
      "Writing...\n",
      "Transcribing Öz Hakiki Karakol _  Türk Filmi Tek Parça (HD).mp3\n",
      "Writing...\n",
      "Transcribing Öğretmen _ Kemal Sunal Komedi Filmi.mp3\n",
      "Writing...\n",
      "Transcribing Üç Kağıtçı Türk Filmi _ FULL HD _ Kemal Sunal Filmleri.mp3\n",
      "Writing...\n",
      "Transcribing İki Kafadar _ Türk Komedi Filmi Tek Parça (HD).mp3\n",
      "Writing...\n",
      "Transcribing İkimize Bir Dünya (Yerli Film) HD.mp3\n",
      "Writing...\n",
      "Transcribing İncir Çekirdeği _ Türk Filmi Dram Filmi _ Full Film İzle.mp3\n",
      "Writing...\n",
      "Transcribing İçimdeki Ses _ Türk Komedi Filmi (Tek Parça).mp3\n",
      "Writing...\n",
      "Transcribing Şark Bülbülü Türk Filmi _ RESTORASYONLU _ Kemal Sunal Filmleri.mp3\n",
      "Writing...\n",
      "Transcribing Şerr_i Cin Adlı Yerli Korku Filmi (2023).mp3\n",
      "Writing...\n",
      "Transcribing Şeytan_ı Racim _ Türk Filmi Tek Parça (HD).mp3\n",
      "Writing...\n",
      "Transcribing 🎈Hadi İnşallah _ Tek Parça Full HD Film İzle.mp3\n",
      "Writing...\n"
     ]
    }
   ],
   "source": [
    "folder_path = \"mp3_files\"\n",
    "\n",
    "if os.path.exists(folder_path):\n",
    "    files = os.listdir(folder_path) # get list of files\n",
    "    mp3_files = [file for file in files if file.lower().endswith(\".mp3\")] # get all files endswith '.mp3'\n",
    "    for mp3 in mp3_files:\n",
    "        if mp3 not in done:\n",
    "            full_path = os.path.abspath(os.path.join(folder_path, mp3))\n",
    "            print(f\"Transcribing {mp3}\")\n",
    "\n",
    "            transcribe = model.transcribe(f\"{full_path}\", language=\"tr\")\n",
    "        \n",
    "            print(\"Writing...\")\n",
    "            df = pd.DataFrame({\"name\": mp3, \"transcript\": [transcribe[\"text\"]]})\n",
    "\n",
    "            df.to_csv('transcript_files/transcriptions.csv', sep='|', mode=\"a\", index=False)"
   ]
  },
  {
   "cell_type": "code",
   "execution_count": 7,
   "id": "a046e52e-cee4-46e9-a381-5d91e3f9434b",
   "metadata": {},
   "outputs": [
    {
     "data": {
      "text/html": [
       "<div>\n",
       "<style scoped>\n",
       "    .dataframe tbody tr th:only-of-type {\n",
       "        vertical-align: middle;\n",
       "    }\n",
       "\n",
       "    .dataframe tbody tr th {\n",
       "        vertical-align: top;\n",
       "    }\n",
       "\n",
       "    .dataframe thead th {\n",
       "        text-align: right;\n",
       "    }\n",
       "</style>\n",
       "<table border=\"1\" class=\"dataframe\">\n",
       "  <thead>\n",
       "    <tr style=\"text-align: right;\">\n",
       "      <th></th>\n",
       "      <th>name</th>\n",
       "      <th>transcript</th>\n",
       "    </tr>\n",
       "  </thead>\n",
       "  <tbody>\n",
       "    <tr>\n",
       "      <th>0</th>\n",
       "      <td>A.R.O.G _ Cem Yılmaz Türk Komedi Filmi.mp3</td>\n",
       "      <td>İzlediğiniz için teşekkür ederim. Altyazı M.K...</td>\n",
       "    </tr>\n",
       "    <tr>\n",
       "      <th>1</th>\n",
       "      <td>name</td>\n",
       "      <td>transcript</td>\n",
       "    </tr>\n",
       "    <tr>\n",
       "      <th>2</th>\n",
       "      <td>Abimm  _ Türk Filmi Tek Parça (HD).mp3</td>\n",
       "      <td>Bu dizinin betimlemesi TRT tarafından Sesli B...</td>\n",
       "    </tr>\n",
       "    <tr>\n",
       "      <th>3</th>\n",
       "      <td>name</td>\n",
       "      <td>transcript</td>\n",
       "    </tr>\n",
       "    <tr>\n",
       "      <th>4</th>\n",
       "      <td>Acıların Kadını Bergen _ Yerli Film _ Weco Fil...</td>\n",
       "      <td>Yıllar yıllık dert yolunda Ne ilk neden sonun...</td>\n",
       "    </tr>\n",
       "  </tbody>\n",
       "</table>\n",
       "</div>"
      ],
      "text/plain": [
       "                                                name  \\\n",
       "0         A.R.O.G _ Cem Yılmaz Türk Komedi Filmi.mp3   \n",
       "1                                               name   \n",
       "2             Abimm  _ Türk Filmi Tek Parça (HD).mp3   \n",
       "3                                               name   \n",
       "4  Acıların Kadını Bergen _ Yerli Film _ Weco Fil...   \n",
       "\n",
       "                                          transcript  \n",
       "0   İzlediğiniz için teşekkür ederim. Altyazı M.K...  \n",
       "1                                         transcript  \n",
       "2   Bu dizinin betimlemesi TRT tarafından Sesli B...  \n",
       "3                                         transcript  \n",
       "4   Yıllar yıllık dert yolunda Ne ilk neden sonun...  "
      ]
     },
     "execution_count": 7,
     "metadata": {},
     "output_type": "execute_result"
    }
   ],
   "source": [
    "d = pd.read_csv('transcript_files/transcriptions.csv', sep='|')"
   ]
  },
  {
   "cell_type": "code",
   "execution_count": 8,
   "id": "c40e86e4-2a82-41d8-b0ac-ef8886ecfa90",
   "metadata": {},
   "outputs": [
    {
     "data": {
      "text/plain": [
       "(383, 2)"
      ]
     },
     "execution_count": 8,
     "metadata": {},
     "output_type": "execute_result"
    }
   ],
   "source": [
    "d.shape"
   ]
  },
  {
   "cell_type": "code",
   "execution_count": 12,
   "id": "418684e6-2dfa-44dc-af96-1db1fbc8fb55",
   "metadata": {},
   "outputs": [],
   "source": [
    "d[d[\"name\"] != \"name\"].shape"
   ]
  },
  {
   "cell_type": "code",
   "execution_count": null,
   "id": "2af0b5df-0b40-48c7-b202-5bb59d347f67",
   "metadata": {},
   "outputs": [],
   "source": []
  }
 ],
 "metadata": {
  "kernelspec": {
   "display_name": "ml",
   "language": "python",
   "name": "ml"
  },
  "language_info": {
   "codemirror_mode": {
    "name": "ipython",
    "version": 3
   },
   "file_extension": ".py",
   "mimetype": "text/x-python",
   "name": "python",
   "nbconvert_exporter": "python",
   "pygments_lexer": "ipython3",
   "version": "3.11.3"
  }
 },
 "nbformat": 4,
 "nbformat_minor": 5
}
