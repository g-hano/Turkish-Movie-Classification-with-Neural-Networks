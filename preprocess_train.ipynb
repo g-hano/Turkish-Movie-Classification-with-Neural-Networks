{
 "cells": [
  {
   "cell_type": "code",
   "execution_count": 1,
   "id": "906f2cea-6035-453c-a7d9-59de6c3071f8",
   "metadata": {},
   "outputs": [],
   "source": [
    "import warnings\n",
    "warnings.filterwarnings(\"ignore\")"
   ]
  },
  {
   "cell_type": "markdown",
   "id": "6dd99baf-61ba-40f1-a7c2-79f73885025b",
   "metadata": {
    "jp-MarkdownHeadingCollapsed": true
   },
   "source": [
    "## Data Cleaning and Exploring"
   ]
  },
  {
   "cell_type": "code",
   "execution_count": 1,
   "id": "b6352eea-c19f-4182-a2dc-72098d4d046c",
   "metadata": {},
   "outputs": [],
   "source": [
    "import pandas as pd\n",
    "import string \n",
    "import re\n",
    "import unicodedata\n",
    "\n",
    "from functions import (remove_punctuation, \n",
    "                       contains_non_turkish,\n",
    "                       remove_words_without_non_turkish,\n",
    "                       remove_substring, remove_consecutive_duplicates)"
   ]
  },
  {
   "cell_type": "code",
   "execution_count": 2,
   "id": "bf6bfe74-be19-4119-9eb0-0626dbf34660",
   "metadata": {
    "scrolled": true
   },
   "outputs": [],
   "source": [
    "df = pd.read_csv(\"transcript_files/cleaned_full.csv\")"
   ]
  },
  {
   "cell_type": "code",
   "execution_count": 5,
   "id": "a0a14868-551f-43db-8ba4-922735c348ee",
   "metadata": {},
   "outputs": [
    {
     "data": {
      "text/html": [
       "<div>\n",
       "<style scoped>\n",
       "    .dataframe tbody tr th:only-of-type {\n",
       "        vertical-align: middle;\n",
       "    }\n",
       "\n",
       "    .dataframe tbody tr th {\n",
       "        vertical-align: top;\n",
       "    }\n",
       "\n",
       "    .dataframe thead th {\n",
       "        text-align: right;\n",
       "    }\n",
       "</style>\n",
       "<table border=\"1\" class=\"dataframe\">\n",
       "  <thead>\n",
       "    <tr style=\"text-align: right;\">\n",
       "      <th></th>\n",
       "      <th>name</th>\n",
       "      <th>transcript</th>\n",
       "      <th>type</th>\n",
       "    </tr>\n",
       "  </thead>\n",
       "  <tbody>\n",
       "    <tr>\n",
       "      <th>0</th>\n",
       "      <td>Arog</td>\n",
       "      <td>bak ne diyor logarı ki alın benim gemiyi korey...</td>\n",
       "      <td>KOMEDI</td>\n",
       "    </tr>\n",
       "    <tr>\n",
       "      <th>1</th>\n",
       "      <td>Abimm</td>\n",
       "      <td>o yüzden onların planına uyacağız çok dakika o...</td>\n",
       "      <td>DRAM</td>\n",
       "    </tr>\n",
       "    <tr>\n",
       "      <th>2</th>\n",
       "      <td>Acıların Kadını Bergen</td>\n",
       "      <td>yıllar yıllık dert yolunda ne ilk neden sonunc...</td>\n",
       "      <td>DRAM</td>\n",
       "    </tr>\n",
       "    <tr>\n",
       "      <th>3</th>\n",
       "      <td>Allahın Evi</td>\n",
       "      <td>allah şüphesiz alemlere bereket ve hidayet kay...</td>\n",
       "      <td>DRAM</td>\n",
       "    </tr>\n",
       "    <tr>\n",
       "      <th>4</th>\n",
       "      <td>Arekalar Ve Cinler</td>\n",
       "      <td>sude neredesin korkuyorum sude nerede kaldın b...</td>\n",
       "      <td>KORKU</td>\n",
       "    </tr>\n",
       "  </tbody>\n",
       "</table>\n",
       "</div>"
      ],
      "text/plain": [
       "                     name                                         transcript  \\\n",
       "0                    Arog  bak ne diyor logarı ki alın benim gemiyi korey...   \n",
       "1                   Abimm  o yüzden onların planına uyacağız çok dakika o...   \n",
       "2  Acıların Kadını Bergen  yıllar yıllık dert yolunda ne ilk neden sonunc...   \n",
       "3             Allahın Evi  allah şüphesiz alemlere bereket ve hidayet kay...   \n",
       "4      Arekalar Ve Cinler  sude neredesin korkuyorum sude nerede kaldın b...   \n",
       "\n",
       "     type  \n",
       "0  KOMEDI  \n",
       "1    DRAM  \n",
       "2    DRAM  \n",
       "3    DRAM  \n",
       "4   KORKU  "
      ]
     },
     "execution_count": 5,
     "metadata": {},
     "output_type": "execute_result"
    }
   ],
   "source": [
    "df = df[df[\"name\"] != \"name\"] # some values has 'name' in it, a small mistake. Drop them.\n",
    "\n",
    "df['name'] = df['name'].str.title() # convert to string\n",
    "df[\"transcript\"] = df[\"transcript\"].apply(lambda x: x.lower()) # lowercase everything in 'transcript' column    \n",
    "\n",
    "# apply predefined functions\n",
    "df[\"transcript\"] = df[\"transcript\"].apply(remove_punctuation)\n",
    "df[\"transcript\"] = df[\"transcript\"].apply(remove_words_without_non_turkish)\n",
    "df = remove_substring(df)\n",
    "df[\"transcript\"] = df[\"transcript\"].apply(remove_consecutive_duplicates)\n",
    "\n",
    "df.head()"
   ]
  },
  {
   "cell_type": "code",
   "execution_count": 6,
   "id": "641db793-234a-48c7-9d6f-012876894405",
   "metadata": {},
   "outputs": [
    {
     "data": {
      "text/plain": [
       "name          0\n",
       "transcript    0\n",
       "type          0\n",
       "dtype: int64"
      ]
     },
     "execution_count": 6,
     "metadata": {},
     "output_type": "execute_result"
    }
   ],
   "source": [
    "# check if we have any N/A values\n",
    "df.isna().sum()"
   ]
  },
  {
   "cell_type": "code",
   "execution_count": 7,
   "id": "794760c1-7ba6-4ab6-9b88-7a6a9b1fe95f",
   "metadata": {},
   "outputs": [
    {
     "data": {
      "image/png": "[encoded data removed]",
      "text/plain": [
       "<Figure size 640x480 with 1 Axes>"
      ]
     },
     "metadata": {},
     "output_type": "display_data"
    }
   ],
   "source": [
    "import matplotlib.pyplot as plt\n",
    "\n",
    "type_counts = df[\"type\"].value_counts()\n",
    "plt.pie(type_counts, labels=None, autopct='%1.1f%%', startangle=90)\n",
    "\n",
    "plt.axis('equal')  \n",
    "plt.legend(labels=type_counts.index, loc='lower left')\n",
    "plt.title(\"Distribution of Types\")\n",
    "plt.show()"
   ]
  },
  {
   "cell_type": "code",
   "execution_count": 6,
   "id": "1d4b9a8f-42e8-4da5-ad25-271d758ae535",
   "metadata": {},
   "outputs": [],
   "source": [
    "df.to_csv(\"transcript_files/final_dataset.csv\", index=False) # save the dataframe"
   ]
  },
  {
   "cell_type": "markdown",
   "id": "fdc2b1a9-222b-4da3-9096-36dd02e51bf7",
   "metadata": {
    "jp-MarkdownHeadingCollapsed": true
   },
   "source": [
    "## Tokenizing"
   ]
  },
  {
   "cell_type": "code",
   "execution_count": 8,
   "id": "6255131c-b8aa-4f32-848b-1179b0db6036",
   "metadata": {},
   "outputs": [
    {
     "name": "stdout",
     "output_type": "stream",
     "text": [
      "WARNING:tensorflow:From C:\\Users\\Cihan\\Desktop\\web\\ML\\Lib\\site-packages\\keras\\src\\losses.py:2976: The name tf.losses.sparse_softmax_cross_entropy is deprecated. Please use tf.compat.v1.losses.sparse_softmax_cross_entropy instead.\n",
      "\n"
     ]
    }
   ],
   "source": [
    "import tensorflow as tf\n",
    "from tensorflow import keras\n",
    "from tensorflow.keras.preprocessing.sequence import pad_sequences\n",
    "from tensorflow.keras.preprocessing.text import Tokenizer"
   ]
  },
  {
   "cell_type": "code",
   "execution_count": 9,
   "id": "7a47c025-d98e-462f-b2cd-5bde68e1e1b6",
   "metadata": {},
   "outputs": [],
   "source": [
    "from TurkishStemmer import TurkishStemmer\n",
    "stemmer = TurkishStemmer()"
   ]
  },
  {
   "cell_type": "code",
   "execution_count": 10,
   "id": "6714112e-7f0e-4130-8e65-75022ad2a779",
   "metadata": {},
   "outputs": [],
   "source": [
    "# !pip install https://huggingface.co/turkish-nlp-suite/tr_core_news_trf/resolve/main/tr_core_news_trf-any-py3-none-any.whl\n",
    "import spacy\n",
    "from spacy.lang.tr import stop_words\n",
    "\n",
    "stop_words = stop_words.STOP_WORDS\n",
    "\n",
    "nlp = spacy.load(\"tr_core_news_trf\")\n",
    "nlp.max_length = 200_000"
   ]
  },
  {
   "cell_type": "code",
   "execution_count": 11,
   "id": "b403552d-0aa4-499c-bf55-85a3ca74e6fb",
   "metadata": {},
   "outputs": [],
   "source": [
    "df.drop('name', axis=1, inplace=True)"
   ]
  },
  {
   "cell_type": "code",
   "execution_count": 12,
   "id": "5186766c-6efd-4b53-8491-87711a3f2db9",
   "metadata": {},
   "outputs": [],
   "source": [
    "from sklearn.model_selection import train_test_split"
   ]
  },
  {
   "cell_type": "code",
   "execution_count": 13,
   "id": "d0d40a0c-4269-4851-863c-6f35e17fd9ff",
   "metadata": {
    "scrolled": true
   },
   "outputs": [],
   "source": [
    "X, Y = df[\"transcript\"], df[\"type\"]\n",
    "\n",
    "# split into test and train\n",
    "X_train, X_test, Y_train, Y_test = train_test_split(X, Y, test_size=0.2, random_state=1) "
   ]
  },
  {
   "cell_type": "code",
   "execution_count": 14,
   "id": "027148e0-76e2-4a13-bbf1-231f0fcc8da7",
   "metadata": {},
   "outputs": [
    {
     "data": {
      "text/plain": [
       "((166,), (166,), (42,), (42,))"
      ]
     },
     "execution_count": 14,
     "metadata": {},
     "output_type": "execute_result"
    }
   ],
   "source": [
    "X_train.shape,  Y_train.shape, X_test.shape, Y_test.shape"
   ]
  },
  {
   "cell_type": "code",
   "execution_count": 15,
   "id": "0ecc00f5-2fb3-463a-baed-2e3a496871ec",
   "metadata": {},
   "outputs": [
    {
     "data": {
      "text/plain": [
       "73     en çok nüfus sende iki yüz doksan beni görmemi...\n",
       "166    asker bu ne kıpa asker bu ne lastik bir daha b...\n",
       "138    keşke onu siz de tanıyabilseydiniz bireyim bir...\n",
       "199    tired to mym fless hıppprialuje nasıl build sa...\n",
       "84     izlediğiniz için teşekkürler idam konusunda so...\n",
       "                             ...                        \n",
       "203    kalp krizi geçirmeyeyim mi şimdi genç yaşta öl...\n",
       "137    lan telefon beyler hop nereye hesap mı demedin...\n",
       "72     wwwseslibetimlemedernegicom beni iyi dinleyin ...\n",
       "140    bulursa jandarmaya da vermez bu işten kurtulam...\n",
       "37     sen bana bir he desen var ya kira mira yok ev ...\n",
       "Name: transcript, Length: 166, dtype: object"
      ]
     },
     "execution_count": 15,
     "metadata": {},
     "output_type": "execute_result"
    }
   ],
   "source": [
    "X_train"
   ]
  },
  {
   "cell_type": "code",
   "execution_count": 16,
   "id": "52b1e605-b0d2-4b4d-89fe-c7b8eb97816b",
   "metadata": {},
   "outputs": [
    {
     "data": {
      "text/plain": [
       "73     KOMEDI\n",
       "166    KOMEDI\n",
       "138      DRAM\n",
       "199    KOMEDI\n",
       "84       DRAM\n",
       "        ...  \n",
       "203    KOMEDI\n",
       "137      DRAM\n",
       "72       DRAM\n",
       "140    KOMEDI\n",
       "37     KOMEDI\n",
       "Name: type, Length: 166, dtype: object"
      ]
     },
     "execution_count": 16,
     "metadata": {},
     "output_type": "execute_result"
    }
   ],
   "source": [
    "Y_train"
   ]
  },
  {
   "cell_type": "code",
   "execution_count": 14,
   "id": "3c34d512-a215-4b8d-9f9f-ca504a70438e",
   "metadata": {
    "scrolled": true
   },
   "outputs": [],
   "source": [
    "tokenizer = Tokenizer(num_words=9800, filters='!\"#$%&()*+,-./:;<=>?@[\\]^_`{|}~', lower=True)\n",
    "\n",
    "tokenized_sentences = []\n",
    "for sentence in X_train: # in train split\n",
    "    doc = nlp(sentence) # tokenize each row\n",
    "    tokens = [token.lemma_ for token in doc if token.lemma_ not in stop_words] # stem each word if it is not a stop word\n",
    "    stemmed_tokens = [stemmer.stem(token) for token in tokens]  # apply stemming to each token\n",
    "    tokenized_sentences.append(\" \".join(stemmed_tokens))\n",
    "\n",
    "tokenizer.fit_on_texts(tokenized_sentences) # train the tokenizer\n",
    "word_index = tokenizer.word_index"
   ]
  },
  {
   "cell_type": "code",
   "execution_count": 15,
   "id": "3f125dde-899e-487a-9e4a-0d40e62f8fcd",
   "metadata": {},
   "outputs": [],
   "source": [
    "sequences = tokenizer.texts_to_sequences(tokenized_sentences) # convert to numeric values\n",
    "max_sequence_length = max(len(seq) for seq in sequences) # the longest sequence length\n",
    "padded_sequences = pad_sequences(sequences, maxlen=max_sequence_length) # pad the sequences to ensure uniform length "
   ]
  },
  {
   "cell_type": "code",
   "execution_count": 16,
   "id": "a03007f2-0423-4a80-ad8e-68d28c688486",
   "metadata": {},
   "outputs": [],
   "source": [
    "X_train = padded_sequences"
   ]
  },
  {
   "cell_type": "code",
   "execution_count": 17,
   "id": "9a445dd6-643a-4462-b284-142fbec9f56d",
   "metadata": {},
   "outputs": [
    {
     "data": {
      "text/plain": [
       "73     KOMEDI\n",
       "166    KOMEDI\n",
       "138      DRAM\n",
       "199    KOMEDI\n",
       "84       DRAM\n",
       "        ...  \n",
       "203    KOMEDI\n",
       "137      DRAM\n",
       "72       DRAM\n",
       "140    KOMEDI\n",
       "37     KOMEDI\n",
       "Name: type, Length: 166, dtype: object"
      ]
     },
     "execution_count": 17,
     "metadata": {},
     "output_type": "execute_result"
    }
   ],
   "source": [
    "Y_train"
   ]
  },
  {
   "cell_type": "markdown",
   "id": "b32ea141-633b-49db-a569-83b110803f63",
   "metadata": {},
   "source": [
    "*We need to convert categoric values to numeric*"
   ]
  },
  {
   "cell_type": "code",
   "execution_count": 27,
   "id": "71896662-a6ef-4aff-a2be-9abc672d73c5",
   "metadata": {},
   "outputs": [],
   "source": [
    "from sklearn.preprocessing import LabelEncoder"
   ]
  },
  {
   "cell_type": "code",
   "execution_count": 18,
   "id": "37b4ba4c-3d29-4652-81b1-df84f844c126",
   "metadata": {},
   "outputs": [
    {
     "name": "stdout",
     "output_type": "stream",
     "text": [
      "Class Mapping: {'AKSIYON': 0, 'DRAM': 1, 'KOMEDI': 2, 'KORKU': 3, 'ROMANTIK': 4}\n"
     ]
    }
   ],
   "source": [
    "le = LabelEncoder()\n",
    "Y_train = le.fit_transform(Y_train) # convert to numeric\n",
    "\n",
    "classes_mapping = dict(zip(le.classes_, le.transform(le.classes_)))\n",
    "print(\"Class Mapping:\", classes_mapping)"
   ]
  },
  {
   "cell_type": "code",
   "execution_count": 19,
   "id": "5bd0decc-8d41-44b7-8cca-5457197320b0",
   "metadata": {},
   "outputs": [
    {
     "data": {
      "text/plain": [
       "((208,), (208,))"
      ]
     },
     "execution_count": 19,
     "metadata": {},
     "output_type": "execute_result"
    }
   ],
   "source": [
    "X.shape, Y.shape"
   ]
  },
  {
   "cell_type": "code",
   "execution_count": 23,
   "id": "97b1b52e-24c2-4c39-9670-4da1245cf97f",
   "metadata": {},
   "outputs": [
    {
     "data": {
      "text/plain": [
       "array([[   0,    0,    0, ...,   75,   75,    7],\n",
       "       [   0,    0,    0, ..., 1828,  554,  526],\n",
       "       [   0,    0,    0, ..., 6339,  554,  526],\n",
       "       ...,\n",
       "       [   0,    0,    0, ...,   22,  554,  526],\n",
       "       [   0,    0,    0, ...,  135, 2957, 9474],\n",
       "       [   0,    0,    0, ...,    7,  411,   27]])"
      ]
     },
     "execution_count": 23,
     "metadata": {},
     "output_type": "execute_result"
    }
   ],
   "source": [
    "X_train"
   ]
  },
  {
   "cell_type": "code",
   "execution_count": 22,
   "id": "b8b8b198-f9d5-4e88-ac51-20dbeee6650c",
   "metadata": {},
   "outputs": [
    {
     "data": {
      "text/plain": [
       "array([2, 2, 1, 2, 1, 2, 2, 0, 1, 1, 2, 1, 1, 2, 2, 0, 2, 1, 1, 2, 2, 0,\n",
       "       2, 2, 1, 2, 3, 1, 2, 4, 0, 1, 2, 1, 1, 1, 2, 3, 1, 1, 3, 3, 1, 3,\n",
       "       1, 4, 4, 1, 1, 1, 2, 1, 0, 3, 4, 3, 2, 2, 2, 1, 1, 2, 2, 1, 1, 2,\n",
       "       1, 2, 3, 1, 1, 1, 2, 2, 2, 1, 1, 1, 1, 4, 3, 3, 2, 4, 2, 1, 2, 1,\n",
       "       1, 1, 1, 1, 2, 3, 3, 2, 2, 2, 2, 2, 2, 2, 2, 2, 2, 3, 1, 3, 2, 3,\n",
       "       1, 3, 2, 0, 2, 1, 2, 1, 2, 1, 1, 3, 3, 1, 4, 2, 3, 3, 2, 2, 3, 2,\n",
       "       2, 1, 2, 1, 2, 1, 1, 2, 1, 1, 1, 4, 2, 2, 1, 1, 1, 3, 2, 2, 2, 3,\n",
       "       2, 4, 2, 3, 2, 4, 2, 2, 1, 1, 2, 2])"
      ]
     },
     "execution_count": 22,
     "metadata": {},
     "output_type": "execute_result"
    }
   ],
   "source": [
    "Y_train"
   ]
  },
  {
   "cell_type": "markdown",
   "id": "0c3afda3-9038-4be9-8e21-daf45d848bf7",
   "metadata": {
    "jp-MarkdownHeadingCollapsed": true
   },
   "source": [
    "## Train Different Models"
   ]
  },
  {
   "cell_type": "code",
   "execution_count": null,
   "id": "8a358f64-477d-449a-8c3b-0b90ff65b5bb",
   "metadata": {},
   "outputs": [],
   "source": [
    "from sklearn.ensemble import RandomForestClassifier\n",
    "from sklearn.metrics import accuracy_score, classification_report"
   ]
  },
  {
   "cell_type": "code",
   "execution_count": 25,
   "id": "15452f5d-edc4-4cd3-8ac5-8eaab9bbb4e9",
   "metadata": {},
   "outputs": [
    {
     "data": {
      "text/html": [
       "<style>#sk-container-id-1 {color: black;}#sk-container-id-1 pre{padding: 0;}#sk-container-id-1 div.sk-toggleable {background-color: white;}#sk-container-id-1 label.sk-toggleable__label {cursor: pointer;display: block;width: 100%;margin-bottom: 0;padding: 0.3em;box-sizing: border-box;text-align: center;}#sk-container-id-1 label.sk-toggleable__label-arrow:before {content: \"▸\";float: left;margin-right: 0.25em;color: #696969;}#sk-container-id-1 label.sk-toggleable__label-arrow:hover:before {color: black;}#sk-container-id-1 div.sk-estimator:hover label.sk-toggleable__label-arrow:before {color: black;}#sk-container-id-1 div.sk-toggleable__content {max-height: 0;max-width: 0;overflow: hidden;text-align: left;background-color: #f0f8ff;}#sk-container-id-1 div.sk-toggleable__content pre {margin: 0.2em;color: black;border-radius: 0.25em;background-color: #f0f8ff;}#sk-container-id-1 input.sk-toggleable__control:checked~div.sk-toggleable__content {max-height: 200px;max-width: 100%;overflow: auto;}#sk-container-id-1 input.sk-toggleable__control:checked~label.sk-toggleable__label-arrow:before {content: \"▾\";}#sk-container-id-1 div.sk-estimator input.sk-toggleable__control:checked~label.sk-toggleable__label {background-color: #d4ebff;}#sk-container-id-1 div.sk-label input.sk-toggleable__control:checked~label.sk-toggleable__label {background-color: #d4ebff;}#sk-container-id-1 input.sk-hidden--visually {border: 0;clip: rect(1px 1px 1px 1px);clip: rect(1px, 1px, 1px, 1px);height: 1px;margin: -1px;overflow: hidden;padding: 0;position: absolute;width: 1px;}#sk-container-id-1 div.sk-estimator {font-family: monospace;background-color: #f0f8ff;border: 1px dotted black;border-radius: 0.25em;box-sizing: border-box;margin-bottom: 0.5em;}#sk-container-id-1 div.sk-estimator:hover {background-color: #d4ebff;}#sk-container-id-1 div.sk-parallel-item::after {content: \"\";width: 100%;border-bottom: 1px solid gray;flex-grow: 1;}#sk-container-id-1 div.sk-label:hover label.sk-toggleable__label {background-color: #d4ebff;}#sk-container-id-1 div.sk-serial::before {content: \"\";position: absolute;border-left: 1px solid gray;box-sizing: border-box;top: 0;bottom: 0;left: 50%;z-index: 0;}#sk-container-id-1 div.sk-serial {display: flex;flex-direction: column;align-items: center;background-color: white;padding-right: 0.2em;padding-left: 0.2em;position: relative;}#sk-container-id-1 div.sk-item {position: relative;z-index: 1;}#sk-container-id-1 div.sk-parallel {display: flex;align-items: stretch;justify-content: center;background-color: white;position: relative;}#sk-container-id-1 div.sk-item::before, #sk-container-id-1 div.sk-parallel-item::before {content: \"\";position: absolute;border-left: 1px solid gray;box-sizing: border-box;top: 0;bottom: 0;left: 50%;z-index: -1;}#sk-container-id-1 div.sk-parallel-item {display: flex;flex-direction: column;z-index: 1;position: relative;background-color: white;}#sk-container-id-1 div.sk-parallel-item:first-child::after {align-self: flex-end;width: 50%;}#sk-container-id-1 div.sk-parallel-item:last-child::after {align-self: flex-start;width: 50%;}#sk-container-id-1 div.sk-parallel-item:only-child::after {width: 0;}#sk-container-id-1 div.sk-dashed-wrapped {border: 1px dashed gray;margin: 0 0.4em 0.5em 0.4em;box-sizing: border-box;padding-bottom: 0.4em;background-color: white;}#sk-container-id-1 div.sk-label label {font-family: monospace;font-weight: bold;display: inline-block;line-height: 1.2em;}#sk-container-id-1 div.sk-label-container {text-align: center;}#sk-container-id-1 div.sk-container {/* jupyter's `normalize.less` sets `[hidden] { display: none; }` but bootstrap.min.css set `[hidden] { display: none !important; }` so we also need the `!important` here to be able to override the default hidden behavior on the sphinx rendered scikit-learn.org. See: https://github.com/scikit-learn/scikit-learn/issues/21755 */display: inline-block !important;position: relative;}#sk-container-id-1 div.sk-text-repr-fallback {display: none;}</style><div id=\"sk-container-id-1\" class=\"sk-top-container\"><div class=\"sk-text-repr-fallback\"><pre>RandomForestClassifier(max_depth=20)</pre><b>In a Jupyter environment, please rerun this cell to show the HTML representation or trust the notebook. <br />On GitHub, the HTML representation is unable to render, please try loading this page with nbviewer.org.</b></div><div class=\"sk-container\" hidden><div class=\"sk-item\"><div class=\"sk-estimator sk-toggleable\"><input class=\"sk-toggleable__control sk-hidden--visually\" id=\"sk-estimator-id-1\" type=\"checkbox\" checked><label for=\"sk-estimator-id-1\" class=\"sk-toggleable__label sk-toggleable__label-arrow\">RandomForestClassifier</label><div class=\"sk-toggleable__content\"><pre>RandomForestClassifier(max_depth=20)</pre></div></div></div></div></div>"
      ],
      "text/plain": [
       "RandomForestClassifier(max_depth=20)"
      ]
     },
     "execution_count": 25,
     "metadata": {},
     "output_type": "execute_result"
    }
   ],
   "source": [
    "model = RandomForestClassifier(n_estimators=100, max_depth=20)\n",
    "model.fit(X_train, Y_train)"
   ]
  },
  {
   "cell_type": "code",
   "execution_count": 26,
   "id": "07200855-5d42-4434-8f18-16a0f787af95",
   "metadata": {},
   "outputs": [
    {
     "name": "stdout",
     "output_type": "stream",
     "text": [
      "tokenizing\n"
     ]
    }
   ],
   "source": [
    "print(\"tokenizing\")\n",
    "tokenized_sentences_test = []\n",
    "for sentence in X_test:\n",
    "    doc = nlp(sentence)\n",
    "    tokens = [token.lemma_ for token in doc if token.lemma_ not in stop_words]\n",
    "    stemmed_tokens = [stemmer.stem(token) for token in tokens]  # apply stemming to each token\n",
    "    tokenized_sentences_test.append(\" \".join(stemmed_tokens))\n",
    "\n",
    "sequences_test = tokenizer.texts_to_sequences(tokenized_sentences_test)\n",
    "padded_sequences_test = pad_sequences(sequences_test, maxlen=max_sequence_length)\n",
    "\n",
    "Y_test_encoded = le.transform(Y_test)\n"
   ]
  },
  {
   "cell_type": "code",
   "execution_count": 27,
   "id": "7b6af314-471f-44f4-8ca0-417478cc044b",
   "metadata": {},
   "outputs": [
    {
     "name": "stdout",
     "output_type": "stream",
     "text": [
      "predicting\n",
      "Accuracy: 0.67\n"
     ]
    }
   ],
   "source": [
    "print(\"predicting\")\n",
    "predictions = model.predict(padded_sequences_test)\n",
    "accuracy = accuracy_score(Y_test_encoded, predictions)\n",
    "print(f\"Accuracy: {accuracy:.2f}\")"
   ]
  },
  {
   "cell_type": "code",
   "execution_count": 34,
   "id": "4134b313-49ee-4452-9728-494ea83fc589",
   "metadata": {
    "collapsed": true,
    "jupyter": {
     "outputs_hidden": true
    }
   },
   "outputs": [
    {
     "name": "stdout",
     "output_type": "stream",
     "text": [
      "True: KOMEDI, Predicted: KOMEDI\n",
      "True: KORKU, Predicted: KORKU\n",
      "True: KORKU, Predicted: DRAM\n",
      "True: KOMEDI, Predicted: KOMEDI\n",
      "True: KOMEDI, Predicted: KOMEDI\n",
      "True: KOMEDI, Predicted: KOMEDI\n",
      "True: KOMEDI, Predicted: KOMEDI\n",
      "True: DRAM, Predicted: DRAM\n",
      "True: DRAM, Predicted: KORKU\n",
      "True: KOMEDI, Predicted: KOMEDI\n",
      "True: KORKU, Predicted: DRAM\n",
      "True: DRAM, Predicted: DRAM\n",
      "True: DRAM, Predicted: DRAM\n",
      "True: KORKU, Predicted: DRAM\n",
      "True: KORKU, Predicted: DRAM\n",
      "True: KOMEDI, Predicted: KOMEDI\n",
      "True: KORKU, Predicted: DRAM\n",
      "True: KOMEDI, Predicted: KOMEDI\n",
      "True: KORKU, Predicted: DRAM\n",
      "True: KOMEDI, Predicted: KOMEDI\n",
      "True: DRAM, Predicted: KOMEDI\n",
      "True: KOMEDI, Predicted: KOMEDI\n",
      "True: KORKU, Predicted: DRAM\n",
      "True: ROMANTIK, Predicted: KOMEDI\n",
      "True: KOMEDI, Predicted: KOMEDI\n",
      "True: KOMEDI, Predicted: KOMEDI\n",
      "True: DRAM, Predicted: KOMEDI\n",
      "True: DRAM, Predicted: KOMEDI\n",
      "True: KOMEDI, Predicted: KOMEDI\n",
      "True: DRAM, Predicted: KORKU\n",
      "True: DRAM, Predicted: DRAM\n",
      "True: KOMEDI, Predicted: KOMEDI\n",
      "True: KORKU, Predicted: KORKU\n",
      "True: DRAM, Predicted: DRAM\n",
      "True: KOMEDI, Predicted: KOMEDI\n",
      "True: KOMEDI, Predicted: KOMEDI\n",
      "True: KOMEDI, Predicted: KOMEDI\n",
      "True: KORKU, Predicted: DRAM\n",
      "True: KOMEDI, Predicted: KOMEDI\n",
      "True: KORKU, Predicted: KORKU\n",
      "True: KOMEDI, Predicted: KOMEDI\n",
      "True: KOMEDI, Predicted: KOMEDI\n"
     ]
    }
   ],
   "source": [
    "class_mapping = {0: 'AKSIYON', 1: 'DRAM', 2: 'KOMEDI', 3: 'KORKU', 4: 'ROMANTIK'}\n",
    "\n",
    "for i in range(len(predictions)):\n",
    "    true_class = class_mapping[Y_test_encoded[i]]\n",
    "    predicted_class = class_mapping[predictions[i]]\n",
    "    print(f\"True: {true_class}, Predicted: {predicted_class}\")"
   ]
  },
  {
   "cell_type": "code",
   "execution_count": 36,
   "id": "feb13ce0-bddb-4c42-9623-115e2e15d039",
   "metadata": {},
   "outputs": [
    {
     "data": {
      "image/png": "[encoded data removed]",
      "text/plain": [
       "<Figure size 800x600 with 2 Axes>"
      ]
     },
     "metadata": {},
     "output_type": "display_data"
    }
   ],
   "source": [
    "import seaborn as sns\n",
    "import matplotlib.pyplot as plt\n",
    "\n",
    "conf_matrix = confusion_matrix(Y_test_encoded, predictions)\n",
    "\n",
    "plt.figure(figsize=(8, 6))\n",
    "sns.heatmap(conf_matrix, annot=True, fmt=\"d\", cmap=\"Blues\", xticklabels=class_mapping.values(), yticklabels=class_mapping.values())\n",
    "plt.title('Confusion Matrix')\n",
    "plt.xlabel('Predicted')\n",
    "plt.ylabel('True')\n",
    "plt.show()\n"
   ]
  },
  {
   "cell_type": "markdown",
   "id": "17c67da9-a8a1-4690-8623-5bc94c9f6233",
   "metadata": {},
   "source": [
    "### Neural Network Models"
   ]
  },
  {
   "cell_type": "code",
   "execution_count": 49,
   "id": "f38dc50f-feed-4d9a-97b0-9244049b9308",
   "metadata": {},
   "outputs": [],
   "source": [
    "from tensorflow.keras.models import Sequential\n",
    "from tensorflow.keras.layers import Embedding, LSTM, Dense, Dropout, Bidirectional\n",
    "import numpy as np"
   ]
  },
  {
   "cell_type": "markdown",
   "id": "4344df7f-89b6-4118-a097-8041eec2db76",
   "metadata": {
    "jp-MarkdownHeadingCollapsed": true
   },
   "source": [
    "# Model 1"
   ]
  },
  {
   "cell_type": "markdown",
   "id": "9f76b830-1d04-4a2b-af24-2276eaa9fdda",
   "metadata": {},
   "source": [
    "## A sequential neural network model using Tensorflow & Keras\n",
    "\n",
    "### 1. Embedding Layer:\n",
    "   - We use Embedding because our Model will need to know which words are similar and which are not. Will be useful to determine the meanings of the words.\n",
    "\n",
    "### 2. Bidirectional LSTM:\n",
    "   - LSTM's are powerful in understanding context by processing input sequences, Bidirectional LSTM can process data in both forward and backward directions. It allows model to capture more data, both from the past and the future steps.\n",
    "  \n",
    "### 3. Dense Layer:\n",
    "   - Takes what is returned from the last layer as input, returns the predicted output. Output units equal to the number of classes in the target.\n",
    "\n",
    "### 4. Compilation:\n",
    "   - **Optimizer:** Adam optimizer.\n",
    "   - **Loss Function:** Sparse Categorical Crossentropy\n",
    "   - **Evaluation Metric:** Accuracy"
   ]
  },
  {
   "cell_type": "code",
   "execution_count": null,
   "id": "c380d783-36f9-4138-9f9c-1741c59c2c4a",
   "metadata": {
    "scrolled": true
   },
   "outputs": [],
   "source": [
    "model = Sequential()\n",
    "model.add(Embedding(input_dim=len(word_index) + 1, output_dim=100, input_length=X_train.shape[1]))\n",
    "model.add(Bidirectional(LSTM(100, return_sequences=True)))\n",
    "model.add(LSTM(100))\n",
    "model.add(Dense(len(classes_mapping), activation='sigmoid'))\n",
    "model.compile(optimizer='adam', loss='sparse_categorical_crossentropy', metrics=['accuracy'])\n",
    "\n",
    "model.fit(X_train, Y_train, epochs=5, batch_size=8)\n",
    "\n",
    "predictions = model.predict(padded_sequences_test)"
   ]
  },
  {
   "cell_type": "code",
   "execution_count": 44,
   "id": "69530eec-c22c-45c5-a82a-2af86d1fd886",
   "metadata": {},
   "outputs": [
    {
     "name": "stdout",
     "output_type": "stream",
     "text": [
      "Accuracy: 0.29\n"
     ]
    }
   ],
   "source": [
    "accuracy = accuracy_score(Y_test_encoded, np.argmax(predictions, axis=1))\n",
    "print(f\"Accuracy: {accuracy:.2f}\")"
   ]
  },
  {
   "cell_type": "code",
   "execution_count": 88,
   "id": "943f23e5-05b8-43ec-90e0-7541d38e21e0",
   "metadata": {},
   "outputs": [],
   "source": [
    "model.save(\"saved models/acc29.h5\")"
   ]
  },
  {
   "cell_type": "markdown",
   "id": "ee53721e-e3e4-4a03-8df0-063e468b9de6",
   "metadata": {
    "jp-MarkdownHeadingCollapsed": true
   },
   "source": [
    "# Model 2"
   ]
  },
  {
   "cell_type": "markdown",
   "id": "8d7c0031-024a-479b-8bdf-118312b73ef0",
   "metadata": {},
   "source": [
    "## Simpler Neural Network with LSTMs\r\n",
    "**Adjusting for Overfitting:**\n",
    "Since the first model overfit, I may need to reduce the power of the model and change some hyperparameters.\n",
    "\n",
    "**Changes:**\n",
    "- I reduced the number of Bidirectional LSTMs.\n",
    "- Changed the output dimension of Embedding from 100 to 150.\n",
    "\n",
    "**Results:**\n",
    "- I ended up getting better results. %29 to 48, **+%65** improvement!c:** Accuracy\r\n"
   ]
  },
  {
   "cell_type": "code",
   "execution_count": 51,
   "id": "4ec62ce9-b756-479c-a51a-d2780b452af3",
   "metadata": {},
   "outputs": [
    {
     "name": "stdout",
     "output_type": "stream",
     "text": [
      "Epoch 1/5\n",
      "21/21 [==============================] - 164s 8s/step - loss: 1.5015 - accuracy: 0.3253\n",
      "Epoch 2/5\n",
      "21/21 [==============================] - 174s 8s/step - loss: 1.2532 - accuracy: 0.4458\n",
      "Epoch 3/5\n",
      "21/21 [==============================] - 179s 9s/step - loss: 0.9602 - accuracy: 0.6265\n",
      "Epoch 4/5\n",
      "21/21 [==============================] - 183s 9s/step - loss: 0.3998 - accuracy: 0.8434\n",
      "Epoch 5/5\n",
      "21/21 [==============================] - 185s 9s/step - loss: 0.4245 - accuracy: 0.8554\n",
      "2/2 [==============================] - 14s 839ms/step\n",
      "Accuracy: 0.48\n"
     ]
    }
   ],
   "source": [
    "model1 = Sequential()\n",
    "model1.add(Embedding(input_dim=len(word_index) + 1, output_dim=150, input_length=X_train.shape[1]))\n",
    "model1.add(Bidirectional(LSTM(150, return_sequences=True)))\n",
    "model1.add(LSTM(150))\n",
    "model1.add(Dense(len(classes_mapping), activation='sigmoid'))\n",
    "# Compile the model\n",
    "model1.compile(optimizer='adam', loss='sparse_categorical_crossentropy', metrics=['accuracy'])\n",
    "\n",
    "# Train the model\n",
    "model1.fit(X_train, Y_train, epochs=5, batch_size=8)\n",
    "\n",
    "predictions = model1.predict(padded_sequences_test)\n",
    "accuracy = accuracy_score(Y_test_encoded, np.argmax(predictions, axis=1))\n",
    "print(f\"Accuracy: {accuracy:.2f}\")"
   ]
  },
  {
   "cell_type": "code",
   "execution_count": 87,
   "id": "f5e2e810-0c14-4403-8972-2aed7cf8869b",
   "metadata": {},
   "outputs": [],
   "source": [
    "model1.save(\"saved models/acc48.h5\")"
   ]
  },
  {
   "cell_type": "markdown",
   "id": "6c64ae0e-c99b-4c0b-aa0c-165d2d95fd6a",
   "metadata": {
    "jp-MarkdownHeadingCollapsed": true
   },
   "source": [
    "# Model 3"
   ]
  },
  {
   "cell_type": "markdown",
   "id": "367adad5-266a-4c5a-a357-9afd2b1ed46d",
   "metadata": {},
   "source": [
    "## Same Model with Different Number of Output Dimension\n",
    "*Last time it helped the model to learn better, so I will play with the output_dim.*\n",
    "  \n",
    "**Changes:**\n",
    "- Changed the output dimension of Embedding from 150 to 200.\n",
    "\n",
    "**Results:**\n",
    "- I ended up getting way worse results. %48 to 31, **%35** degradation!"
   ]
  },
  {
   "cell_type": "code",
   "execution_count": 52,
   "id": "450270c2-e6fc-49b9-bc6c-a2d0764bf684",
   "metadata": {},
   "outputs": [
    {
     "name": "stdout",
     "output_type": "stream",
     "text": [
      "Epoch 1/5\n",
      "21/21 [==============================] - 253s 12s/step - loss: 1.4470 - accuracy: 0.4217\n",
      "Epoch 2/5\n",
      "21/21 [==============================] - 269s 13s/step - loss: 1.2888 - accuracy: 0.3855\n",
      "Epoch 3/5\n",
      "21/21 [==============================] - 280s 13s/step - loss: 0.8922 - accuracy: 0.6928\n",
      "Epoch 4/5\n",
      "21/21 [==============================] - 288s 14s/step - loss: 0.4840 - accuracy: 0.8434\n",
      "Epoch 5/5\n",
      "21/21 [==============================] - 290s 14s/step - loss: 0.2327 - accuracy: 0.9217\n",
      "2/2 [==============================] - 21s 2s/step\n",
      "Accuracy: 0.31\n"
     ]
    }
   ],
   "source": [
    "model2 = Sequential()\n",
    "model2.add(Embedding(input_dim=len(word_index) + 1, output_dim=200, input_length=X_train.shape[1]))\n",
    "model2.add(Bidirectional(LSTM(200, return_sequences=True)))\n",
    "model2.add(LSTM(200))\n",
    "model2.add(Dense(len(classes_mapping), activation='softmax'))\n",
    "# Compile the model\n",
    "model2.compile(optimizer='adam', loss='sparse_categorical_crossentropy', metrics=['accuracy'])\n",
    "\n",
    "# Train the model\n",
    "model2.fit(X_train, Y_train, epochs=5, batch_size=8)\n",
    "\n",
    "predictions = model2.predict(padded_sequences_test)\n",
    "accuracy = accuracy_score(Y_test_encoded, np.argmax(predictions, axis=1))\n",
    "print(f\"Accuracy: {accuracy:.2f}\")"
   ]
  },
  {
   "cell_type": "code",
   "execution_count": 86,
   "id": "848c6ed6-9afb-4cd7-a2ed-56081abff263",
   "metadata": {},
   "outputs": [],
   "source": [
    "model2.save(\"saved models/acc31.h5\")"
   ]
  },
  {
   "cell_type": "markdown",
   "id": "0950f6b3-e264-452c-a2f2-3a139108b93b",
   "metadata": {
    "jp-MarkdownHeadingCollapsed": true
   },
   "source": [
    "# Model 4"
   ]
  },
  {
   "cell_type": "markdown",
   "id": "ce6d9379-9080-46be-bbf6-6ccdf5a7144d",
   "metadata": {},
   "source": [
    "## Deeper and Stronger Neural Network with Multiple LSTMs\n",
    "**Changes:**\n",
    "- I added a new Bidirectional LSTM.\n",
    "- Changed the output dimension of Embedding from 200 to 256.\n",
    "\n",
    "**Results:**\n",
    "- I ended up getting better result than the last model. %31 to 40, **~%30** improvement!"
   ]
  },
  {
   "cell_type": "code",
   "execution_count": null,
   "id": "1f4a3ab6-c9a7-4ce5-8f56-f552399fe7b1",
   "metadata": {},
   "outputs": [],
   "source": [
    "model3 = Sequential()\n",
    "model3.add(Embedding(input_dim=len(word_index) + 1, output_dim=256, input_length=X_train.shape[1]))\n",
    "model3.add(Bidirectional(LSTM(256, return_sequences=True, stateful=True)))\n",
    "model3.add(Bidirectional(LSTM(128, return_sequences=True, stateful=True)))\n",
    "model3.add(LSTM(128, stateful=True))\n",
    "model3.add(Dense(len(classes_mapping), activation='softmax'))\n",
    "# Compile the model\n",
    "model3.compile(optimizer='adam', loss='sparse_categorical_crossentropy', metrics=['accuracy'])\n",
    "\n",
    "model3.fit(X_train, Y_train, epochs=5, batch_size=8)\n",
    "\n",
    "predictions = model3.predict(padded_sequences_test)\n",
    "accuracy = accuracy_score(Y_test_encoded, np.argmax(predictions, axis=1))\n",
    "print(f\"Accuracy: {accuracy:.2f}\")"
   ]
  },
  {
   "cell_type": "code",
   "execution_count": null,
   "id": "9ec54924-cf13-4cd5-ab87-7a27eae0105e",
   "metadata": {},
   "outputs": [],
   "source": [
    "model3.save(\"saved models/acc40.h5\")"
   ]
  },
  {
   "cell_type": "markdown",
   "id": "7b23cee9-694b-4e31-87df-9610ea68155d",
   "metadata": {
    "jp-MarkdownHeadingCollapsed": true
   },
   "source": [
    "# Trying Sklearn Models"
   ]
  },
  {
   "cell_type": "code",
   "execution_count": 54,
   "id": "bc4f12c3-0c35-4249-8335-a7c124505ead",
   "metadata": {},
   "outputs": [],
   "source": [
    "from sklearn.linear_model import LogisticRegression\n",
    "from sklearn.svm import SVC\n",
    "from sklearn.tree import DecisionTreeClassifier\n",
    "from sklearn.ensemble import RandomForestClassifier\n",
    "from sklearn.neighbors import KNeighborsClassifier"
   ]
  },
  {
   "cell_type": "code",
   "execution_count": 56,
   "id": "7ac1a676-1f36-43d7-9e3f-1a7fda9df335",
   "metadata": {},
   "outputs": [
    {
     "name": "stdout",
     "output_type": "stream",
     "text": [
      "Logistic Regression Accuracy: 0.5476190476190477\n",
      "Logistic Regression Classification Report:\n",
      "               precision    recall  f1-score   support\n",
      "\n",
      "           1       0.33      0.60      0.43        10\n",
      "           2       0.79      0.75      0.77        20\n",
      "           3       0.40      0.18      0.25        11\n",
      "           4       0.00      0.00      0.00         1\n",
      "\n",
      "    accuracy                           0.55        42\n",
      "   macro avg       0.38      0.38      0.36        42\n",
      "weighted avg       0.56      0.55      0.53        42\n",
      "\n",
      "SVM Accuracy: 0.5238095238095238\n",
      "SVM Classification Report:\n",
      "               precision    recall  f1-score   support\n",
      "\n",
      "           1       0.26      0.50      0.34        10\n",
      "           2       0.78      0.70      0.74        20\n",
      "           3       0.60      0.27      0.37        11\n",
      "           4       0.00      0.00      0.00         1\n",
      "\n",
      "    accuracy                           0.52        42\n",
      "   macro avg       0.41      0.37      0.36        42\n",
      "weighted avg       0.59      0.52      0.53        42\n",
      "\n",
      "Decision Tree Accuracy: 0.5\n",
      "Decision Tree Classification Report:\n",
      "               precision    recall  f1-score   support\n",
      "\n",
      "           1       0.28      0.50      0.36        10\n",
      "           2       0.81      0.65      0.72        20\n",
      "           3       0.60      0.27      0.37        11\n",
      "           4       0.00      0.00      0.00         1\n",
      "\n",
      "    accuracy                           0.50        42\n",
      "   macro avg       0.42      0.36      0.36        42\n",
      "weighted avg       0.61      0.50      0.53        42\n",
      "\n",
      "Random Forest Accuracy: 0.6428571428571429\n",
      "Random Forest Classification Report:\n",
      "               precision    recall  f1-score   support\n",
      "\n",
      "           1       0.38      0.50      0.43        10\n",
      "           2       0.77      1.00      0.87        20\n",
      "           3       0.67      0.18      0.29        11\n",
      "           4       0.00      0.00      0.00         1\n",
      "\n",
      "    accuracy                           0.64        42\n",
      "   macro avg       0.46      0.42      0.40        42\n",
      "weighted avg       0.63      0.64      0.59        42\n",
      "\n",
      "k-Nearest Neighbors Accuracy: 0.21428571428571427\n",
      "k-Nearest Neighbors Classification Report:\n",
      "               precision    recall  f1-score   support\n",
      "\n",
      "           1       0.21      0.60      0.32        10\n",
      "           2       0.00      0.00      0.00        20\n",
      "           3       0.21      0.27      0.24        11\n",
      "           4       0.00      0.00      0.00         1\n",
      "\n",
      "    accuracy                           0.21        42\n",
      "   macro avg       0.11      0.22      0.14        42\n",
      "weighted avg       0.11      0.21      0.14        42\n",
      "\n"
     ]
    }
   ],
   "source": [
    "logreg = LogisticRegression(max_iter=1000)\n",
    "logreg.fit(X_train, Y_train)\n",
    "logreg_predictions = logreg.predict(padded_sequences_test)\n",
    "\n",
    "print(\"Logistic Regression Accuracy:\", accuracy_score(Y_test_encoded, logreg_predictions))\n",
    "print(\"Logistic Regression Classification Report:\\n\", classification_report(Y_test_encoded, logreg_predictions))\n",
    "#####################\n",
    "\n",
    "svm = SVC(kernel='linear')\n",
    "svm.fit(X_train, Y_train)\n",
    "svm_predictions = svm.predict(padded_sequences_test)\n",
    "\n",
    "print(\"SVM Accuracy:\", accuracy_score(Y_test_encoded, svm_predictions))\n",
    "print(\"SVM Classification Report:\\n\", classification_report(Y_test_encoded, svm_predictions))\n",
    "#####################\n",
    "\n",
    "dtree = DecisionTreeClassifier()\n",
    "dtree.fit(X_train, Y_train)\n",
    "dtree_predictions = dtree.predict(padded_sequences_test)\n",
    "\n",
    "print(\"Decision Tree Accuracy:\", accuracy_score(Y_test_encoded, dtree_predictions))\n",
    "print(\"Decision Tree Classification Report:\\n\", classification_report(Y_test_encoded, dtree_predictions))\n",
    "#####################\n",
    "\n",
    "rf = RandomForestClassifier()\n",
    "rf.fit(X_train, Y_train)\n",
    "rf_predictions = rf.predict(padded_sequences_test)\n",
    "\n",
    "print(\"Random Forest Accuracy:\", accuracy_score(Y_test_encoded, rf_predictions))\n",
    "print(\"Random Forest Classification Report:\\n\", classification_report(Y_test_encoded, rf_predictions))\n",
    "#####################\n",
    "\n",
    "knn = KNeighborsClassifier(n_neighbors=3)\n",
    "knn.fit(X_train, Y_train)\n",
    "knn_predictions = knn.predict(padded_sequences_test)\n",
    "\n",
    "print(\"k-Nearest Neighbors Accuracy:\", accuracy_score(Y_test_encoded, knn_predictions))\n",
    "print(\"k-Nearest Neighbors Classification Report:\\n\", classification_report(Y_test_encoded, knn_predictions))"
   ]
  },
  {
   "cell_type": "code",
   "execution_count": 84,
   "id": "c5e9a3a8-291c-419a-afa1-4b899f50841b",
   "metadata": {},
   "outputs": [
    {
     "data": {
      "text/plain": [
       "['saved models/knn21.joblib']"
      ]
     },
     "execution_count": 84,
     "metadata": {},
     "output_type": "execute_result"
    }
   ],
   "source": [
    "from joblib import dump\n",
    "\n",
    "dump(logreg, \"saved models/logreg54.joblib\")\n",
    "dump(svm, \"saved models/svm52.joblib\")\n",
    "dump(dtree, \"saved models/dtree50.joblib\")\n",
    "dump(rf, \"saved models/rf64.joblib\")\n",
    "dump(knn, \"saved models/knn21.joblib\")"
   ]
  },
  {
   "cell_type": "markdown",
   "id": "56e90485-cced-4f6b-acb1-249b8ed096a5",
   "metadata": {},
   "source": [
    "## Performance Comparison\n",
    "\n",
    "### Logistic Regression:\r\n",
    "- **Accuracy:** 40%\r\n",
    "- **F1 Score:** 0.43\r\n",
    "- **Recall:** 0.6\r\n",
    "\r\n",
    "### Support Vector Machine (SVM):\r\n",
    "- **Accuracy:** 52%\r\n",
    "- **F1 Score:** 0.34\r\n",
    "- **Recall:** 0.5\r\n",
    "\r\n",
    "### Decision Tree:\r\n",
    "- **Accuracy:** 50%\r\n",
    "- **F1 Score:** 0.36\r\n",
    "- **Recall:** 0.50\r\n",
    "\r\n",
    "### Random Forest:\r\n",
    "- **Accuracy:** 64%\r\n",
    "- **F1 Score:** 0.43\r\n",
    "- **Recall:** 0.5\r\n",
    "\r\n",
    "### k-Nearest Neighbors (KNN):\r\n",
    "- **Accuracy:** 2**Observations:**\r\n",
    "- Random Forest achieved the highest accuracy at 64%, outperforming other models.\r\n",
    "- Logistic Regression exhibited a balanced F1 Score and Recall, suggesting a reasonable trade-off between precision and sensitivity.\r\n",
    "- SVM showed a relatively high accuracy but lower F1 Score and Recall, indicating potential challenges in handling imbalances in the data or sensitivity to certain classes.\r\n",
    "- Decision Tree and Random Forest have similar F1 Scores, but Random Forest outperformed in terms of accuracy.\r\n",
    "- KNN has the lowest accuracy among the moels.- **Recall:** 0.6 0.5.6\r\n"
   ]
  },
  {
   "cell_type": "markdown",
   "id": "75011e47-a3df-40be-9eef-a2bb3cc0de19",
   "metadata": {},
   "source": [
    "#### Passive Aggressive Classifier"
   ]
  },
  {
   "cell_type": "code",
   "execution_count": 6,
   "id": "030339fd-23fd-4b8a-a382-3b12783a1204",
   "metadata": {},
   "outputs": [],
   "source": [
    "from sklearn.feature_extraction.text import TfidfVectorizer\n",
    "\n",
    "tfidf_v = TfidfVectorizer(max_features=5000, ngram_range=(1, 3))"
   ]
  },
  {
   "cell_type": "code",
   "execution_count": null,
   "id": "c62f4001-6113-426d-b30f-84ac21c77753",
   "metadata": {},
   "outputs": [],
   "source": [
    "tfidf_X = tfidf_v.fit_transform(tokenized_sentences).toarray()\n",
    "tfidf_Y = Y_train"
   ]
  },
  {
   "cell_type": "code",
   "execution_count": 75,
   "id": "0630b8ac-3273-4286-9565-f8ff2bd2f0fc",
   "metadata": {},
   "outputs": [
    {
     "data": {
      "text/plain": [
       "array([[0.02466967, 0.        , 0.        , ..., 0.        , 0.        ,\n",
       "        0.00497822],\n",
       "       [0.00797245, 0.        , 0.        , ..., 0.        , 0.        ,\n",
       "        0.        ],\n",
       "       [0.        , 0.        , 0.        , ..., 0.        , 0.        ,\n",
       "        0.        ],\n",
       "       ...,\n",
       "       [0.00285757, 0.        , 0.        , ..., 0.        , 0.        ,\n",
       "        0.        ],\n",
       "       [0.        , 0.        , 0.        , ..., 0.        , 0.        ,\n",
       "        0.        ],\n",
       "       [0.00929373, 0.        , 0.        , ..., 0.        , 0.        ,\n",
       "        0.        ]])"
      ]
     },
     "execution_count": 75,
     "metadata": {},
     "output_type": "execute_result"
    }
   ],
   "source": [
    "tfidf_X"
   ]
  },
  {
   "cell_type": "code",
   "execution_count": 76,
   "id": "2e572f0b-f3e3-428a-b882-9bc61f596e68",
   "metadata": {},
   "outputs": [
    {
     "data": {
      "text/plain": [
       "array([2, 2, 1, 2, 1, 2, 2, 0, 1, 1, 2, 1, 1, 2, 2, 0, 2, 1, 1, 2, 2, 0,\n",
       "       2, 2, 1, 2, 3, 1, 2, 4, 0, 1, 2, 1, 1, 1, 2, 3, 1, 1, 3, 3, 1, 3,\n",
       "       1, 4, 4, 1, 1, 1, 2, 1, 0, 3, 4, 3, 2, 2, 2, 1, 1, 2, 2, 1, 1, 2,\n",
       "       1, 2, 3, 1, 1, 1, 2, 2, 2, 1, 1, 1, 1, 4, 3, 3, 2, 4, 2, 1, 2, 1,\n",
       "       1, 1, 1, 1, 2, 3, 3, 2, 2, 2, 2, 2, 2, 2, 2, 2, 2, 3, 1, 3, 2, 3,\n",
       "       1, 3, 2, 0, 2, 1, 2, 1, 2, 1, 1, 3, 3, 1, 4, 2, 3, 3, 2, 2, 3, 2,\n",
       "       2, 1, 2, 1, 2, 1, 1, 2, 1, 1, 1, 4, 2, 2, 1, 1, 1, 3, 2, 2, 2, 3,\n",
       "       2, 4, 2, 3, 2, 4, 2, 2, 1, 1, 2, 2])"
      ]
     },
     "execution_count": 76,
     "metadata": {},
     "output_type": "execute_result"
    }
   ],
   "source": [
    "tfidf_Y"
   ]
  },
  {
   "cell_type": "code",
   "execution_count": 77,
   "id": "11c3734e-e8f9-4439-a0dc-96e918a1bf46",
   "metadata": {
    "scrolled": true
   },
   "outputs": [],
   "source": [
    "x_train, x_test, y_train, y_test = train_test_split(tfidf_X, tfidf_Y, test_size=0.2, random_state=0)"
   ]
  },
  {
   "cell_type": "code",
   "execution_count": 78,
   "id": "ca0697fe-9961-46bf-a845-10f7ce53522d",
   "metadata": {},
   "outputs": [],
   "source": [
    "from sklearn.linear_model import PassiveAggressiveClassifier\n",
    "\n",
    "classifier = PassiveAggressiveClassifier(max_iter=1000)"
   ]
  },
  {
   "cell_type": "code",
   "execution_count": 79,
   "id": "83a3ea0d-cb8a-4262-aaaa-58a39459e1fb",
   "metadata": {},
   "outputs": [
    {
     "name": "stdout",
     "output_type": "stream",
     "text": [
      "accuracy:   0.529\n"
     ]
    }
   ],
   "source": [
    "from sklearn import metrics\n",
    "import itertools\n",
    "\n",
    "classifier.fit(x_train, y_train)\n",
    "\n",
    "pred = classifier.predict(x_test)\n",
    "\n",
    "score = metrics.accuracy_score(y_test, pred)\n",
    "print(\"accuracy:   %0.3f\" % score)"
   ]
  },
  {
   "cell_type": "code",
   "execution_count": 80,
   "id": "42e2bf40-6c4c-4016-9942-261ed9eb62e4",
   "metadata": {},
   "outputs": [
    {
     "name": "stdout",
     "output_type": "stream",
     "text": [
      "Confusion matrix, without normalization\n"
     ]
    },
    {
     "data": {
      "image/png": "[encoded data removed]",
      "text/plain": [
       "<Figure size 640x480 with 2 Axes>"
      ]
     },
     "metadata": {},
     "output_type": "display_data"
    }
   ],
   "source": [
    "def plot_confusion_matrix(cm, classes, normalize=False, title='Confusion matrix', cmap=plt.cm.Blues):\n",
    "    plt.imshow(cm, interpolation='nearest', cmap=cmap)\n",
    "    plt.title(title)\n",
    "    plt.colorbar()\n",
    "    tick_marks = np.arange(len(classes))\n",
    "    plt.xticks(tick_marks, classes, rotation=45)\n",
    "    plt.yticks(tick_marks, classes)\n",
    "\n",
    "    if normalize:\n",
    "        cm = cm.astype('float') / cm.sum(axis=1)[:, np.newaxis]\n",
    "        print(\"Normalized confusion matrix\")\n",
    "    else:\n",
    "        print('Confusion matrix, without normalization')\n",
    "\n",
    "    thresh = cm.max() / 2.\n",
    "    for i, j in itertools.product(range(cm.shape[0]), range(cm.shape[1])):\n",
    "        plt.text(j, i, \"{:0.4f}\".format(cm[i, j]),\n",
    "                 horizontalalignment=\"center\",\n",
    "                 color=\"white\" if cm[i, j] > thresh else \"black\")\n",
    "\n",
    "    plt.tight_layout()\n",
    "    plt.ylabel('True label')\n",
    "    plt.xlabel('Predicted label')\n",
    "\n",
    "cm = metrics.confusion_matrix(y_test, pred)\n",
    "plot_confusion_matrix(cm, classes=['DRAM', 'KOMEDI', 'KORKU', 'ROMANTIK'])"
   ]
  },
  {
   "cell_type": "markdown",
   "id": "67a7ac4a-bfb7-4d73-9f34-16142bb0a6db",
   "metadata": {},
   "source": [
    "##### Classification with TF-IDF Vectorizer and PassiveAggressiveClassifier\r\n",
    "In this code chunk, text classification is performed using a TF-IDF (Term Frequency-Inverse Document Frequency) vectorizer and the PassiveAggressiveClassifier from scikit-learn.\r\n",
    "1. **TF-IDF Vectorizer:**\r\n",
    "   - The `TfidfVectorizer` is utilized with a maximum of 5000 features and n-gram range from unigrams to trigrams (`ngram_range=(1, 3)`). This vectorizer converts text data into a numerical format suitable for machine learning. 2.\r\n",
    "\r\n",
    "3. **PassiveAggressive Classifier:**\r\n",
    "   - The `PassiveAggressiveClassifier` is employed with a maximum of 1000 iterations for trai3ing.\r\n",
    "\r\n",
    "4. **Model Training:**\r\n",
    "   - The classifier is trained using the training data (`x_train` and `y_4rain`).\r\n",
    "\r\n",
    "5. **Prediction and Evaluation:**\r\n",
    "   - Predictions are made on the test data, and accuracy is calculated using the `metrics.accuracy_score` function.\r\n",
    "\r\n",
    "6. **Confusion Matrix:**\r\n",
    "   - The confusion matrix is printed to evaluate the classifier's performance. The rows represent actual classes, and columns represent pr"
   ]
  },
  {
   "cell_type": "markdown",
   "id": "da0f6c15-9a64-4681-a50c-8cdbdf446f8a",
   "metadata": {},
   "source": [
    "<table>\r\n",
    "     <tr>\r\n",
    "       <td><strong>Actual\\Predicted</strong></td>\r\n",
    "       <td><strong style=\"color: #1f77b4\">DRAM</strong></td>\r\n",
    "       <td><strong style=\"color: #ff7f0e\">KOMEDI</strong></td>\r\n",
    "       <td><strong style=\"color: #2ca02c\">KORKU</strong></td>\r\n",
    "       <td><strong style=\"color: #d62728\">ROMANTIK</strong></td>\r\n",
    "     </tr>\r\n",
    "     <tr>\r\n",
    "       <td><strong style=\"color: #1f77b4\">DRAM</strong></td>\r\n",
    "       <td style=\"background-color: #d62728\">0</td>\r\n",
    "       <td style=\"background-color: #ff7f0e\">1</td>\r\n",
    "       <td>0</td>\r\n",
    "       <td>0</td>\r\n",
    "     </tr>\r\n",
    "     <tr>\r\n",
    "       <td><strong style=\"color: #ff7f0e\">KOMEDI</strong></td>\r\n",
    "       <td>0</td>\r\n",
    "       <td style=\"background-color: #ff7f0e\">5</td>\r\n",
    "       <td style=\"background-color: #2ca02c\">5</td>\r\n",
    "       <td>0</td>\r\n",
    "     </tr>\r\n",
    "     <tr>\r\n",
    "       <td><strong style=\"color: #2ca02c\">KORKU</strong></td>\r\n",
    "       <td>0</td>\r\n",
    "       <td>2</td>\r\n",
    "       <td style=\"background-color: #2ca02c\">11</td>\r\n",
    "       <td>0</td>\r\n",
    "     </tr>\r\n",
    "     <tr>\r\n",
    "       <td><strong style=\"color: #d62728\">ROMANTIK</strong></td>\r\n",
    "       <td>0</td>\r\n",
    "       <td style=\"background-color: #d62728\">6</td>\r\n",
    "       <td>0</td>\r\n",
    "       <td style=\"background-color: #d62728\">2</td>\r\n",
    "     </tr>\r\n",
    "</table>\r\n"
   ]
  },
  {
   "cell_type": "markdown",
   "id": "ddbb9b3b-fcca-4ca7-b134-361ef41d1111",
   "metadata": {
    "jp-MarkdownHeadingCollapsed": true
   },
   "source": [
    "# Training with more Balanced Dataset"
   ]
  },
  {
   "cell_type": "markdown",
   "id": "122ff7b8-5e57-4816-b283-c66fc269f0b4",
   "metadata": {},
   "source": [
    "*This time, I will drop 'AKSIYON' column since we have less data, also confuses the model*"
   ]
  },
  {
   "cell_type": "code",
   "execution_count": null,
   "id": "c820ed83-68ac-4ef4-bdc1-22e36fe288b0",
   "metadata": {},
   "outputs": [],
   "source": [
    "df = pd.read_csv(\"transcript_files/final_dataset.csv\")"
   ]
  },
  {
   "cell_type": "code",
   "execution_count": null,
   "id": "0ed5c4ba-4826-4cbd-9eeb-b2f7df6e0fa9",
   "metadata": {},
   "outputs": [],
   "source": [
    "df = df[df[\"type\"] != \"AKSIYON\"]\n",
    "df = df[df[\"name\"] != \"Ev\"]\n",
    "df = df[df[\"name\"] != \"Dabbe 4\"]\n",
    "df = df[df[\"name\"] !=  \"Kendime Iyi Bak\"]"
   ]
  },
  {
   "cell_type": "code",
   "execution_count": null,
   "id": "c24de17c-65dc-44f2-8f81-b69825c5b2a4",
   "metadata": {},
   "outputs": [],
   "source": [
    "df.shape"
   ]
  },
  {
   "cell_type": "code",
   "execution_count": null,
   "id": "803b6371-2e8b-4aad-859f-3fe918661f2a",
   "metadata": {},
   "outputs": [],
   "source": [
    "df.isna().any()"
   ]
  },
  {
   "cell_type": "code",
   "execution_count": null,
   "id": "8a18c2a2-fcbc-4c3c-a7d8-76b06a10c921",
   "metadata": {},
   "outputs": [],
   "source": [
    "import matplotlib.pyplot as plt\n",
    "\n",
    "type_counts = df[\"type\"].value_counts()\n",
    "plt.pie(type_counts, labels=None, autopct='%1.1f%%', startangle=90)\n",
    "\n",
    "plt.axis('equal')  \n",
    "plt.legend(labels=type_counts.index, loc='lower left')\n",
    "plt.show()"
   ]
  },
  {
   "cell_type": "code",
   "execution_count": 8,
   "id": "bed59c1c-d9a8-43ef-b664-3d12468f5376",
   "metadata": {},
   "outputs": [
    {
     "name": "stdout",
     "output_type": "stream",
     "text": [
      "WARNING:tensorflow:From C:\\Users\\Cihan\\Desktop\\web\\ML\\Lib\\site-packages\\keras\\src\\losses.py:2976: The name tf.losses.sparse_softmax_cross_entropy is deprecated. Please use tf.compat.v1.losses.sparse_softmax_cross_entropy instead.\n",
      "\n"
     ]
    },
    {
     "name": "stderr",
     "output_type": "stream",
     "text": [
      "C:\\Users\\Cihan\\Desktop\\web\\ML\\Lib\\site-packages\\tqdm\\auto.py:21: TqdmWarning: IProgress not found. Please update jupyter and ipywidgets. See https://ipywidgets.readthedocs.io/en/stable/user_install.html\n",
      "  from .autonotebook import tqdm as notebook_tqdm\n"
     ]
    }
   ],
   "source": [
    "import spacy\n",
    "from spacy.lang.tr import stop_words\n",
    "\n",
    "nlp = spacy.load(\"tr_core_news_trf\")\n",
    "nlp.max_length = 200_000\n",
    "stop_words = stop_words.STOP_WORDS\n",
    "\n",
    "import tensorflow as tf\n",
    "from tensorflow import keras\n",
    "from tensorflow.keras.preprocessing.sequence import pad_sequences\n",
    "\n",
    "from tensorflow.keras.preprocessing.text import Tokenizer\n",
    "\n",
    "from TurkishStemmer import TurkishStemmer\n",
    "stemmer = TurkishStemmer()\n",
    "\n",
    "from sklearn.model_selection import train_test_split"
   ]
  },
  {
   "cell_type": "code",
   "execution_count": null,
   "id": "2edc4c60-4fc9-42c2-823e-f066e8a49894",
   "metadata": {},
   "outputs": [],
   "source": [
    "df.drop(\"name\", axis=1, inplace=True)\n",
    "X, Y = df[\"transcript\"], df[\"type\"]\n",
    "X_train, X_test, Y_train, Y_test = train_test_split(X, Y, test_size=0.2, random_state=1)"
   ]
  },
  {
   "cell_type": "code",
   "execution_count": null,
   "id": "d6bdbd9f-2274-4464-aa58-3c52659de62c",
   "metadata": {},
   "outputs": [],
   "source": [
    "tokenizer = Tokenizer(num_words=9800, filters='!\"#$%&()*+,-./:;<=>?@[\\]^_`{|}~', lower=True)\n",
    "\n",
    "tokenized_sentences = []\n",
    "for sentence in X_train:\n",
    "    doc = nlp(sentence)\n",
    "    tokens = [token.lemma_ for token in doc if token.lemma_ not in stop_words]\n",
    "    stemmed_tokens = [stemmer.stem(token) for token in tokens]  # Apply stemming to each token\n",
    "    tokenized_sentences.append(\" \".join(stemmed_tokens))\n",
    "\n",
    "tokenizer.fit_on_texts(tokenized_sentences)\n",
    "word_index = tokenizer.word_index"
   ]
  },
  {
   "cell_type": "code",
   "execution_count": null,
   "id": "3b55264b-c357-468b-b027-753e09ec69b2",
   "metadata": {},
   "outputs": [],
   "source": [
    "sequences = tokenizer.texts_to_sequences(tokenized_sentences)\n",
    "max_sequence_length = max(len(seq) for seq in sequences)\n",
    "padded_sequences = pad_sequences(sequences, maxlen=max_sequence_length)"
   ]
  },
  {
   "cell_type": "code",
   "execution_count": null,
   "id": "be75be70-eb74-45d2-af03-01331c19fe97",
   "metadata": {},
   "outputs": [],
   "source": [
    "from sklearn.preprocessing import LabelEncoder\n",
    "\n",
    "le = LabelEncoder()\n",
    "Y_train = le.fit_transform(Y_train)\n",
    "\n",
    "classes_mapping = dict(zip(le.classes_, le.transform(le.classes_)))\n",
    "print(\"Class Mapping:\", classes_mapping)"
   ]
  },
  {
   "cell_type": "code",
   "execution_count": null,
   "id": "12a1cee5-70d8-47a3-95b9-d4ad158a2c14",
   "metadata": {},
   "outputs": [],
   "source": [
    "X_train = padded_sequences"
   ]
  },
  {
   "cell_type": "code",
   "execution_count": null,
   "id": "38b3f566-8f5f-4231-8529-e2c83f5244c1",
   "metadata": {},
   "outputs": [],
   "source": [
    "print(\"tokenizing\")\n",
    "tokenized_sentences_test = []\n",
    "for sentence in X_test:\n",
    "    doc = nlp(sentence)\n",
    "    tokens = [token.lemma_ for token in doc if token.lemma_ not in stop_words]\n",
    "    stemmed_tokens = [stemmer.stem(token) for token in tokens]  # Apply stemming to each token\n",
    "    tokenized_sentences_test.append(\" \".join(stemmed_tokens))\n",
    "\n",
    "sequences_test = tokenizer.texts_to_sequences(tokenized_sentences_test)\n",
    "padded_sequences_test = pad_sequences(sequences_test, maxlen=max_sequence_length)\n",
    "\n",
    "Y_test_encoded = le.transform(Y_test)"
   ]
  },
  {
   "cell_type": "code",
   "execution_count": null,
   "id": "deef0719-7791-48ab-963c-470bf1ca531f",
   "metadata": {},
   "outputs": [],
   "source": [
    "from sklearn.ensemble import RandomForestClassifier\n",
    "from sklearn.metrics import accuracy_score, classification_report\n",
    "\n",
    "model = RandomForestClassifier(n_estimators=100, max_depth=20)\n",
    "model.fit(X_train, Y_train)"
   ]
  },
  {
   "cell_type": "code",
   "execution_count": null,
   "id": "f364d2cb-b087-4313-bbab-c56d87804ec4",
   "metadata": {},
   "outputs": [],
   "source": [
    "print(\"predicting\")\n",
    "predictions = model.predict(padded_sequences_test)\n",
    "accuracy = accuracy_score(Y_test_encoded, predictions)\n",
    "print(f\"Accuracy: {accuracy:.2f}\")"
   ]
  },
  {
   "cell_type": "markdown",
   "id": "3ebecbe0-563b-4c51-9897-119d8910efbb",
   "metadata": {
    "jp-MarkdownHeadingCollapsed": true
   },
   "source": [
    "# PassiveAggressiveClassifier with TfidfVectorizer"
   ]
  },
  {
   "cell_type": "code",
   "execution_count": null,
   "id": "8d4d7d8f-f9ae-4a2c-93f2-f8e1482b8cfd",
   "metadata": {},
   "outputs": [],
   "source": [
    "from sklearn.feature_extraction.text import TfidfVectorizer\n",
    "\n",
    "tfidf_v = TfidfVectorizer(max_features=5000, ngram_range=(1, 3))"
   ]
  },
  {
   "cell_type": "code",
   "execution_count": null,
   "id": "61760ff9-e3ab-483a-8ab3-3edd3b9c65bb",
   "metadata": {},
   "outputs": [],
   "source": [
    "tfidf_X = tfidf_v.fit_transform(tokenized_sentences).toarray()\n",
    "tfidf_Y = Y_train"
   ]
  },
  {
   "cell_type": "code",
   "execution_count": null,
   "id": "f342581e-db64-4b35-be9e-59e65c69a196",
   "metadata": {},
   "outputs": [],
   "source": [
    "tfidf_Y"
   ]
  },
  {
   "cell_type": "code",
   "execution_count": null,
   "id": "9d0338b2-7fd6-4a2a-af61-3ebb0d27653e",
   "metadata": {},
   "outputs": [],
   "source": [
    "x_train, x_test, y_train, y_test = train_test_split(tfidf_X, tfidf_Y, test_size=0.2, random_state=0)"
   ]
  },
  {
   "cell_type": "code",
   "execution_count": null,
   "id": "793d08b0-04cc-421e-8a96-cda5aaef6177",
   "metadata": {},
   "outputs": [],
   "source": [
    "from sklearn import metrics\n",
    "import numpy as np\n",
    "import itertools\n",
    "\n",
    "from sklearn.linear_model import PassiveAggressiveClassifier\n",
    "\n",
    "classifier = PassiveAggressiveClassifier(max_iter=1000)"
   ]
  },
  {
   "cell_type": "code",
   "execution_count": null,
   "id": "ff4e65ac-2f1d-4ff5-a075-56d43e0b9e6f",
   "metadata": {},
   "outputs": [],
   "source": [
    "classifier.fit(x_train, y_train)\n",
    "\n",
    "pred = classifier.predict(x_test)\n",
    "\n",
    "score = metrics.accuracy_score(y_test, pred)\n",
    "print(\"accuracy:   %0.3f\" % score)"
   ]
  },
  {
   "cell_type": "code",
   "execution_count": null,
   "id": "b9010992-e55e-4914-a5bc-1740fb04c5b8",
   "metadata": {},
   "outputs": [],
   "source": [
    "from sklearn.metrics import confusion_matrix\n",
    "import seaborn as sns\n",
    "\n",
    "class_labels = ['DRAM', 'KOMEDI', 'KORKU', 'ROMANTIK']\n",
    "\n",
    "# Calculate confusion matrix\n",
    "conf_mat = confusion_matrix(y_test, pred)\n",
    "\n",
    "# Plot confusion matrix\n",
    "plt.figure(figsize=(8, 6))\n",
    "sns.heatmap(conf_mat, annot=True, fmt=\"d\", cmap=\"Blues\", cbar=False,\n",
    "            xticklabels=class_labels, yticklabels=class_labels)\n",
    "plt.title('Confusion Matrix')\n",
    "plt.xlabel('Predicted')\n",
    "plt.ylabel('True')\n",
    "plt.show()"
   ]
  },
  {
   "cell_type": "markdown",
   "id": "72010c8a-1e62-4027-aa60-888c7840589b",
   "metadata": {
    "jp-MarkdownHeadingCollapsed": true
   },
   "source": [
    "# Make the Dataset more balanced using scikit-learn *'compute_class_weight'*."
   ]
  },
  {
   "cell_type": "code",
   "execution_count": null,
   "id": "53c962f0-6146-451a-b5cf-2f4206750dfe",
   "metadata": {},
   "outputs": [],
   "source": [
    "from sklearn.utils.class_weight import compute_class_weight\n",
    "from sklearn.model_selection import train_test_split\n",
    "from sklearn.linear_model import LogisticRegression\n",
    "from sklearn.metrics import accuracy_score, classification_report\n",
    "\n",
    "class_weights = compute_class_weight('balanced', classes=np.unique(y_train), y=y_train)\n",
    "class_weight_dict = dict(zip(np.unique(y_train), class_weights))\n",
    "\n",
    "classifier = LogisticRegression(class_weight=class_weight_dict)\n",
    "classifier.fit(x_train, y_train)\n",
    "\n",
    "pred = classifier.predict(x_test)\n",
    "\n",
    "accuracy = accuracy_score(y_test, pred)\n",
    "report = classification_report(y_test, pred)\n",
    "\n",
    "print(\"Accuracy:\", accuracy)\n",
    "print(\"Classification Report:\\n\", report)\n"
   ]
  },
  {
   "cell_type": "markdown",
   "id": "88975646-01ea-406b-ac57-6cc7dc1cbfb9",
   "metadata": {
    "jp-MarkdownHeadingCollapsed": true
   },
   "source": [
    "# PreTrained HuggingFace BERT model"
   ]
  },
  {
   "cell_type": "code",
   "execution_count": 17,
   "id": "d4195ab8-4d3a-4497-88c6-5fedb22a2374",
   "metadata": {},
   "outputs": [
    {
     "data": {
      "text/html": [
       "<div>\n",
       "<style scoped>\n",
       "    .dataframe tbody tr th:only-of-type {\n",
       "        vertical-align: middle;\n",
       "    }\n",
       "\n",
       "    .dataframe tbody tr th {\n",
       "        vertical-align: top;\n",
       "    }\n",
       "\n",
       "    .dataframe thead th {\n",
       "        text-align: right;\n",
       "    }\n",
       "</style>\n",
       "<table border=\"1\" class=\"dataframe\">\n",
       "  <thead>\n",
       "    <tr style=\"text-align: right;\">\n",
       "      <th></th>\n",
       "      <th>transcript</th>\n",
       "      <th>type</th>\n",
       "    </tr>\n",
       "  </thead>\n",
       "  <tbody>\n",
       "    <tr>\n",
       "      <th>0</th>\n",
       "      <td>bak ne diyor logarı ki alın benim gemiyi korey...</td>\n",
       "      <td>KOMEDI</td>\n",
       "    </tr>\n",
       "    <tr>\n",
       "      <th>1</th>\n",
       "      <td>o yüzden onların planına uyacağız çok dakika o...</td>\n",
       "      <td>DRAM</td>\n",
       "    </tr>\n",
       "    <tr>\n",
       "      <th>2</th>\n",
       "      <td>yıllar yıllık dert yolunda ne ilk neden sonunc...</td>\n",
       "      <td>DRAM</td>\n",
       "    </tr>\n",
       "    <tr>\n",
       "      <th>3</th>\n",
       "      <td>allah şüphesiz alemlere bereket ve hidayet kay...</td>\n",
       "      <td>DRAM</td>\n",
       "    </tr>\n",
       "    <tr>\n",
       "      <th>4</th>\n",
       "      <td>sude neredesin korkuyorum sude nerede kaldın b...</td>\n",
       "      <td>KORKU</td>\n",
       "    </tr>\n",
       "  </tbody>\n",
       "</table>\n",
       "</div>"
      ],
      "text/plain": [
       "                                          transcript    type\n",
       "0  bak ne diyor logarı ki alın benim gemiyi korey...  KOMEDI\n",
       "1  o yüzden onların planına uyacağız çok dakika o...    DRAM\n",
       "2  yıllar yıllık dert yolunda ne ilk neden sonunc...    DRAM\n",
       "3  allah şüphesiz alemlere bereket ve hidayet kay...    DRAM\n",
       "4  sude neredesin korkuyorum sude nerede kaldın b...   KORKU"
      ]
     },
     "execution_count": 17,
     "metadata": {},
     "output_type": "execute_result"
    }
   ],
   "source": [
    "import pandas as pd\n",
    "df = pd.read_csv(\"transcript_files/preprocess2.csv\")\n",
    "df.drop('name', axis=1, inplace=True)\n",
    "df.head()"
   ]
  },
  {
   "cell_type": "code",
   "execution_count": 18,
   "id": "f23b7a61-3035-4798-a840-3caf89c4a160",
   "metadata": {},
   "outputs": [],
   "source": [
    "num_classes = len(df[\"type\"].unique())"
   ]
  },
  {
   "cell_type": "code",
   "execution_count": 19,
   "id": "3080cf6c-eb10-4af0-b906-81e0530cf416",
   "metadata": {},
   "outputs": [],
   "source": [
    "from transformers import BertTokenizer, BertForSequenceClassification\n",
    "\n",
    "import torch\n",
    "from torch.utils.data import DataLoader, Dataset\n",
    "from torch.nn.utils.rnn import pad_sequence\n",
    "from torch.utils.data import TensorDataset\n",
    "\n",
    "from tqdm import tqdm"
   ]
  },
  {
   "cell_type": "code",
   "execution_count": 20,
   "id": "045c7a0b-85c1-46ed-bb48-329fe7f81057",
   "metadata": {},
   "outputs": [
    {
     "name": "stdout",
     "output_type": "stream",
     "text": [
      "Running on cuda\n"
     ]
    }
   ],
   "source": [
    "device = \"cuda\" if torch.cuda.is_available() else \"cpu\"\n",
    "print(f\"Running on {device}\")"
   ]
  },
  {
   "cell_type": "code",
   "execution_count": 21,
   "id": "e1705a7a-11ca-4d4b-ad59-cd9d4a116472",
   "metadata": {},
   "outputs": [
    {
     "name": "stderr",
     "output_type": "stream",
     "text": [
      "Some weights of the model checkpoint at dbmdz/bert-base-turkish-128k-uncased were not used when initializing BertForSequenceClassification: ['cls.predictions.decoder.bias', 'cls.seq_relationship.weight', 'cls.predictions.transform.LayerNorm.bias', 'cls.seq_relationship.bias', 'cls.predictions.decoder.weight', 'cls.predictions.transform.LayerNorm.weight', 'cls.predictions.transform.dense.bias', 'cls.predictions.bias', 'cls.predictions.transform.dense.weight']\n",
      "- This IS expected if you are initializing BertForSequenceClassification from the checkpoint of a model trained on another task or with another architecture (e.g. initializing a BertForSequenceClassification model from a BertForPreTraining model).\n",
      "- This IS NOT expected if you are initializing BertForSequenceClassification from the checkpoint of a model that you expect to be exactly identical (initializing a BertForSequenceClassification model from a BertForSequenceClassification model).\n",
      "Some weights of BertForSequenceClassification were not initialized from the model checkpoint at dbmdz/bert-base-turkish-128k-uncased and are newly initialized: ['classifier.bias', 'classifier.weight']\n",
      "You should probably TRAIN this model on a down-stream task to be able to use it for predictions and inference.\n"
     ]
    }
   ],
   "source": [
    "model_name = \"dbmdz/bert-base-turkish-128k-uncased\"\n",
    "tokenizer = BertTokenizer.from_pretrained(model_name)\n",
    "model = BertForSequenceClassification.from_pretrained(model_name, num_labels=num_classes).to(device)"
   ]
  },
  {
   "cell_type": "code",
   "execution_count": 22,
   "id": "cc339513-6857-4114-b487-d68b04dce33d",
   "metadata": {},
   "outputs": [],
   "source": [
    "class MovieDataset(Dataset):\n",
    "    \"\"\"\n",
    "    Our custom Dataset class inherited from torch.Dataset\n",
    "    \"\"\"\n",
    "      def __init__(self, df, tokenizer, max_len):\n",
    "          self.df = df\n",
    "          self.tokenizer = tokenizer\n",
    "          self.max_len = max_len\n",
    "          self.labels = LabelEncoder().fit_transform(df[\"type\"]) # handles categorical data in target column\n",
    "\n",
    "      def __len__(self):\n",
    "          return len(self.df)\n",
    "\n",
    "      def __getitem__(self, index):\n",
    "          transcript = str(self.df[\"transcript\"].iloc[index])\n",
    "          label = self.labels[index]\n",
    "\n",
    "          input_dict = self.tokenizer(\n",
    "             transcript,\n",
    "             padding=\"max_length\",\n",
    "             truncation=True,\n",
    "             max_length=self.max_len,\n",
    "             return_tensors='pt'\n",
    "          )\n",
    "\n",
    "          return {\n",
    "            'input_ids': input_dict['input_ids'].flatten(),\n",
    "            'attention_mask': input_dict['attention_mask'].flatten(),\n",
    "            'token_type_ids': input_dict['token_type_ids'].flatten(),\n",
    "            'label': torch.tensor(label, dtype=torch.long)\n",
    "          }\n"
   ]
  },
  {
   "cell_type": "code",
   "execution_count": 23,
   "id": "263de54b-ea1d-480f-8adc-c4c8efd29854",
   "metadata": {},
   "outputs": [],
   "source": [
    "# split the data\n",
    "train_df, valid_df = train_test_split(df, test_size=0.2, random_state=0)"
   ]
  },
  {
   "cell_type": "code",
   "execution_count": 24,
   "id": "bbb05d3f-4bab-437f-bb13-18f087aba97c",
   "metadata": {},
   "outputs": [],
   "source": [
    "# hyperparameters\n",
    "MAX_LEN=40\n",
    "TRAIN_BATCH_SIZE=8\n",
    "VALID_BATCH_SIZE=8\n",
    "EPOCHS=3\n",
    "LR=5e-5"
   ]
  },
  {
   "cell_type": "code",
   "execution_count": 28,
   "id": "5b564c88-ac0d-4744-b3ef-9e93fe26255b",
   "metadata": {},
   "outputs": [],
   "source": [
    "train_dataset = MovieDataset(train_df, tokenizer, MAX_LEN)\n",
    "valid_dataset = MovieDataset(valid_df, tokenizer, MAX_LEN)"
   ]
  },
  {
   "cell_type": "code",
   "execution_count": 29,
   "id": "88f0af19-5a03-4da4-a595-9b64214b8272",
   "metadata": {},
   "outputs": [],
   "source": [
    "# get DataLoaders\n",
    "train_dataloader = DataLoader(train_dataset, batch_size=TRAIN_BATCH_SIZE, shuffle=True)\n",
    "valid_dataloader = DataLoader(valid_dataset, batch_size=VALID_BATCH_SIZE, shuffle=False)"
   ]
  },
  {
   "cell_type": "code",
   "execution_count": 30,
   "id": "9e4806b1-58df-4b44-9bc3-32fd0ca32d5d",
   "metadata": {},
   "outputs": [],
   "source": [
    "optimizer = torch.optim.AdamW(model.parameters(), lr=LR)"
   ]
  },
  {
   "cell_type": "code",
   "execution_count": 31,
   "id": "1eb6470f-f5bd-4fe9-947e-aa6579e96dd3",
   "metadata": {},
   "outputs": [
    {
     "name": "stderr",
     "output_type": "stream",
     "text": [
      "Epoch 1/ 3: 100%|██████████████████████████████████████████████████████████████████████| 20/20 [00:09<00:00,  2.09it/s]\n",
      "Validation Epoch 1/3: 100%|██████████████████████████████████████████████████████████████| 5/5 [00:02<00:00,  2.50it/s]\n"
     ]
    },
    {
     "name": "stdout",
     "output_type": "stream",
     "text": [
      "Validation Accuracy: 0.325\n"
     ]
    },
    {
     "name": "stderr",
     "output_type": "stream",
     "text": [
      "Epoch 2/ 3: 100%|██████████████████████████████████████████████████████████████████████| 20/20 [00:08<00:00,  2.25it/s]\n",
      "Validation Epoch 2/3: 100%|██████████████████████████████████████████████████████████████| 5/5 [00:02<00:00,  2.48it/s]\n"
     ]
    },
    {
     "name": "stdout",
     "output_type": "stream",
     "text": [
      "Validation Accuracy: 0.325\n"
     ]
    },
    {
     "name": "stderr",
     "output_type": "stream",
     "text": [
      "Epoch 3/ 3: 100%|██████████████████████████████████████████████████████████████████████| 20/20 [00:08<00:00,  2.27it/s]\n",
      "Validation Epoch 3/3: 100%|██████████████████████████████████████████████████████████████| 5/5 [00:02<00:00,  2.50it/s]"
     ]
    },
    {
     "name": "stdout",
     "output_type": "stream",
     "text": [
      "Validation Accuracy: 0.5\n"
     ]
    },
    {
     "name": "stderr",
     "output_type": "stream",
     "text": [
      "\n"
     ]
    }
   ],
   "source": [
    "valid_accuracy = []\n",
    "\n",
    "for epoch in range(EPOCHS):\n",
    "    # Train loop\n",
    "    model.train()\n",
    "    for batch in tqdm(train_dataloader, desc=f\"Epoch {epoch + 1}/ {EPOCHS}\"):\n",
    "        inputs = {k: v.to(device) for k, v in batch.items() if k != 'label'}\n",
    "        labels = batch['label'].to(device)\n",
    "\n",
    "        optimizer.zero_grad()\n",
    "\n",
    "        outputs = model(**inputs, labels=labels)\n",
    "        loss = outputs.loss\n",
    "        loss.backward()\n",
    "        optimizer.step()\n",
    "\n",
    "    # Validation loop\n",
    "    model.eval()\n",
    "    with torch.no_grad():\n",
    "        total_correct = 0\n",
    "        total_samples = 0\n",
    "        for batch in tqdm(valid_dataloader, desc=f\"Validation Epoch {epoch + 1}/{EPOCHS}\"):\n",
    "            inputs = {k: v.to(device) for k, v in batch.items() if k != 'label'}\n",
    "            labels = batch['label'].to(device)\n",
    "\n",
    "            outputs = model(**inputs)\n",
    "            logits = outputs.logits\n",
    "            predictions = torch.argmax(logits, dim=1)\n",
    "\n",
    "            total_correct += (predictions == labels).sum().item()\n",
    "            total_samples += labels.size(0)\n",
    "\n",
    "        accuracy = total_correct / total_samples\n",
    "        valid_accuracy.append(accuracy)\n",
    "        print(f\"Validation Accuracy: {accuracy}\")"
   ]
  },
  {
   "cell_type": "code",
   "execution_count": 32,
   "id": "2f090edf-d50a-472f-8888-416241ebdd7e",
   "metadata": {},
   "outputs": [
    {
     "data": {
      "image/png": "[encoded data removed]",
      "text/plain": [
       "<Figure size 640x480 with 1 Axes>"
      ]
     },
     "metadata": {},
     "output_type": "display_data"
    }
   ],
   "source": [
    "# plot the validation accuracy\n",
    "import matplotlib.pyplot as plt\n",
    "plt.plot(range(1, EPOCHS + 1), valid_accuracy, label='Validation Accuracy')\n",
    "plt.xlabel('Epoch')\n",
    "plt.ylabel('Accuracy')\n",
    "plt.title('Validation Accuracy')\n",
    "plt.legend()\n",
    "plt.show()"
   ]
  },
  {
   "cell_type": "code",
   "execution_count": 33,
   "id": "e0ef12c6-3011-4e2f-8c47-77d80203f7cc",
   "metadata": {},
   "outputs": [
    {
     "data": {
      "text/plain": [
       "('finetuned\\\\tokenizer_config.json',\n",
       " 'finetuned\\\\special_tokens_map.json',\n",
       " 'finetuned\\\\vocab.txt',\n",
       " 'finetuned\\\\added_tokens.json')"
      ]
     },
     "execution_count": 33,
     "metadata": {},
     "output_type": "execute_result"
    }
   ],
   "source": [
    "# save the finetuned model\n",
    "model_save_directory = \"finetuned\"\n",
    "\n",
    "model.save_pretrained(model_save_directory)\n",
    "\n",
    "tokenizer.save_pretrained(model_save_directory)"
   ]
  },
  {
   "cell_type": "code",
   "execution_count": null,
   "id": "8695713d-9fd6-429c-8d34-46fd1d325ed2",
   "metadata": {},
   "outputs": [],
   "source": []
  }
 ],
 "metadata": {
  "kernelspec": {
   "display_name": "ml",
   "language": "python",
   "name": "ml"
  },
  "language_info": {
   "codemirror_mode": {
    "name": "ipython",
    "version": 3
   },
   "file_extension": ".py",
   "mimetype": "text/x-python",
   "name": "python",
   "nbconvert_exporter": "python",
   "pygments_lexer": "ipython3",
   "version": "3.11.3"
  }
 },
 "nbformat": 4,
 "nbformat_minor": 5
}
