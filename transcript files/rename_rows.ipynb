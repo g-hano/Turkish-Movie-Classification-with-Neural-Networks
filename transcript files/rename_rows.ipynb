{
 "cells": [
  {
   "cell_type": "code",
   "execution_count": 108,
   "id": "f65b2a47-a387-41fe-88a9-bae2bd09f6f9",
   "metadata": {},
   "outputs": [
    {
     "data": {
      "text/html": [
       "<div>\n",
       "<style scoped>\n",
       "    .dataframe tbody tr th:only-of-type {\n",
       "        vertical-align: middle;\n",
       "    }\n",
       "\n",
       "    .dataframe tbody tr th {\n",
       "        vertical-align: top;\n",
       "    }\n",
       "\n",
       "    .dataframe thead th {\n",
       "        text-align: right;\n",
       "    }\n",
       "</style>\n",
       "<table border=\"1\" class=\"dataframe\">\n",
       "  <thead>\n",
       "    <tr style=\"text-align: right;\">\n",
       "      <th></th>\n",
       "      <th>name</th>\n",
       "      <th>transcript</th>\n",
       "    </tr>\n",
       "  </thead>\n",
       "  <tbody>\n",
       "    <tr>\n",
       "      <th>0</th>\n",
       "      <td>A.R.O.G _ Cem Yılmaz Türk Komedi Filmi.mp3</td>\n",
       "      <td>bak ne diyor logarı ne diyor diyor ki alın diy...</td>\n",
       "    </tr>\n",
       "    <tr>\n",
       "      <th>1</th>\n",
       "      <td>Abimm  _ Türk Filmi Tek Parça (HD).mp3</td>\n",
       "      <td>bu dizinin betimlemesi trt tarafından sesli be...</td>\n",
       "    </tr>\n",
       "    <tr>\n",
       "      <th>2</th>\n",
       "      <td>Acıların Kadını Bergen _ Yerli Film _ Weco Fil...</td>\n",
       "      <td>yıllar yıllık dert yolunda ne ilk neden sonunc...</td>\n",
       "    </tr>\n",
       "    <tr>\n",
       "      <th>3</th>\n",
       "      <td>Allah'ın Evi Filmi  _ Türk Dram Filmi   _ Yerl...</td>\n",
       "      <td>allah şüphesiz alemlere bereket ve hidayet kay...</td>\n",
       "    </tr>\n",
       "    <tr>\n",
       "      <th>4</th>\n",
       "      <td>Arekalar ve Cinler _ Türk Korku Filmi  _ 4K UH...</td>\n",
       "      <td>sude sude neredesin korkuyorum neredesin sude ...</td>\n",
       "    </tr>\n",
       "  </tbody>\n",
       "</table>\n",
       "</div>"
      ],
      "text/plain": [
       "                                                name  \\\n",
       "0         A.R.O.G _ Cem Yılmaz Türk Komedi Filmi.mp3   \n",
       "1             Abimm  _ Türk Filmi Tek Parça (HD).mp3   \n",
       "2  Acıların Kadını Bergen _ Yerli Film _ Weco Fil...   \n",
       "3  Allah'ın Evi Filmi  _ Türk Dram Filmi   _ Yerl...   \n",
       "4  Arekalar ve Cinler _ Türk Korku Filmi  _ 4K UH...   \n",
       "\n",
       "                                          transcript  \n",
       "0  bak ne diyor logarı ne diyor diyor ki alın diy...  \n",
       "1  bu dizinin betimlemesi trt tarafından sesli be...  \n",
       "2  yıllar yıllık dert yolunda ne ilk neden sonunc...  \n",
       "3  allah şüphesiz alemlere bereket ve hidayet kay...  \n",
       "4  sude sude neredesin korkuyorum neredesin sude ...  "
      ]
     },
     "execution_count": 108,
     "metadata": {},
     "output_type": "execute_result"
    }
   ],
   "source": [
    "import pandas as pd\n",
    "df = pd.read_csv(\"lowercase.csv\")\n",
    "df.head()"
   ]
  },
  {
   "cell_type": "code",
   "execution_count": 109,
   "id": "c550e2b2-f2b6-4168-a6f7-cd1f52273a10",
   "metadata": {},
   "outputs": [
    {
     "data": {
      "text/plain": [
       "(208, 2)"
      ]
     },
     "execution_count": 109,
     "metadata": {},
     "output_type": "execute_result"
    }
   ],
   "source": [
    "df.shape"
   ]
  },
  {
   "cell_type": "code",
   "execution_count": 110,
   "id": "c44e2035-842f-448a-a836-91b3797fda5d",
   "metadata": {},
   "outputs": [
    {
     "data": {
      "text/plain": [
       "name          False\n",
       "transcript    False\n",
       "dtype: bool"
      ]
     },
     "execution_count": 110,
     "metadata": {},
     "output_type": "execute_result"
    }
   ],
   "source": [
    "df.isna().any()"
   ]
  },
  {
   "cell_type": "markdown",
   "id": "8535271a-e633-467c-8440-ee87cabbb49a",
   "metadata": {
    "jp-MarkdownHeadingCollapsed": true
   },
   "source": [
    "## Clean 'name' column"
   ]
  },
  {
   "cell_type": "code",
   "execution_count": 111,
   "id": "f2b091ec-b591-494a-850d-c2b6f618e6f4",
   "metadata": {},
   "outputs": [],
   "source": [
    "df.iloc[0][\"name\"] = \"AROG\"\n",
    "df.iloc[1][\"name\"] = \"Abimm\"\n",
    "df.iloc[2][\"name\"] = \"Acıların Kadını Bergen\"\n",
    "df.iloc[3][\"name\"] = \"Allahın Evi\"\n",
    "df.iloc[4][\"name\"] = \"Arekalar ve Cinler\"\n",
    "df.iloc[5][\"name\"] = \"Artık Çok Geç\"\n",
    "df.iloc[6][\"name\"] = \"Aşk bu mu\"\n",
    "df.iloc[7][\"name\"] = \"aura\"\n",
    "df.iloc[8][\"name\"] = \"av mevsimi\"\n",
    "df.iloc[9][\"name\"] = \"ay lav yu\""
   ]
  },
  {
   "cell_type": "code",
   "execution_count": 112,
   "id": "96f87b5e-fcc7-4b70-8543-02c1ef9cec6a",
   "metadata": {},
   "outputs": [],
   "source": [
    "df.iloc[10][\"name\"] = \"azap\"\n",
    "df.iloc[11][\"name\"] = \"aşk olsun\"\n",
    "df.iloc[12][\"name\"] = \"aşk yolunda\"\n",
    "df.iloc[13][\"name\"] = \"aşkopat\"\n",
    "df.iloc[14][\"name\"] = \"bana git de\"\n",
    "df.iloc[15][\"name\"] = \"bayrampaşa ben fazla kalmayacağım\"\n",
    "df.iloc[16][\"name\"] = \"başka semtin çocukları\"\n",
    "df.iloc[17][\"name\"] = \"behzat ç ankara yanıyor\"\n",
    "df.iloc[18][\"name\"] = \"beyzanın kadınları\"\n",
    "df.iloc[19][\"name\"] = \"bi o kalmıştı\""
   ]
  },
  {
   "cell_type": "code",
   "execution_count": 113,
   "id": "8da4c953-c29c-4967-a3e6-bdcc24dc6ee8",
   "metadata": {},
   "outputs": [],
   "source": [
    "df.iloc[20][\"name\"] = \"bizans oyunları\"\n",
    "df.iloc[21][\"name\"] = \"bizim aile\"\n",
    "df.iloc[22][\"name\"] = \"bizim hikaye\"\n",
    "df.iloc[23][\"name\"] = \"bu son olsun\"\n",
    "df.iloc[24][\"name\"] = \"bu işte bir yalnızlık var\"\n",
    "df.iloc[25][\"name\"] = \"büyü\"\n",
    "df.iloc[26][\"name\"] = \"cem yılmaz son filmi\"\n",
    "df.iloc[27][\"name\"] = \"cin padişahı karantina\"\n",
    "df.iloc[28][\"name\"] = \"dabbe 2\"\n",
    "df.iloc[29][\"name\"] = \"dabbe 3\""
   ]
  },
  {
   "cell_type": "code",
   "execution_count": 114,
   "id": "e82ac2b5-534f-458e-8d4c-64b9509f693a",
   "metadata": {},
   "outputs": [],
   "source": [
    "df.iloc[30][\"name\"] = \"dabbe 4\"\n",
    "df.iloc[31][\"name\"] = \"dabbe 5\"\n",
    "df.iloc[32][\"name\"] = \"dabbe\"\n",
    "df.iloc[33][\"name\"] = \"darbe\"\n",
    "df.iloc[34][\"name\"] = \"davaro\"\n",
    "df.iloc[35][\"name\"] = \"dağ 2\"\n",
    "df.iloc[36][\"name\"] = \"dedemin insanları\"\n",
    "df.iloc[37][\"name\"] = \"deli dumrul kurtlar kuşlar aleminde\"\n",
    "df.iloc[38][\"name\"] = \"devlet kuşu\"\n",
    "df.iloc[39][\"name\"] = \"dünyanın en iyi dram filmi\""
   ]
  },
  {
   "cell_type": "code",
   "execution_count": 115,
   "id": "6f913d81-fe2e-4fba-b3a6-e9ee17944bbd",
   "metadata": {},
   "outputs": [],
   "source": [
    "df.iloc[40][\"name\"] = \"düttürü dünya\"\n",
    "df.iloc[41][\"name\"] = \"efsunlu kabirden gelen\"\n",
    "df.iloc[42][\"name\"] = \"engelli aşk\"\n",
    "df.iloc[43][\"name\"] = \"entel köy efe köye karşı\"\n",
    "df.iloc[44][\"name\"] = \"eskici ve oğulları\"\n",
    "df.iloc[45][\"name\"] = \"ev\"\n",
    "df.iloc[46][\"name\"] = \"eşkiya\"\n",
    "df.iloc[47][\"name\"] = \"feride\"\n",
    "df.iloc[48][\"name\"] = \"feride\"\n",
    "df.iloc[49][\"name\"] = \"gazap\""
   ]
  },
  {
   "cell_type": "code",
   "execution_count": 116,
   "id": "6e24e60f-9922-4fdc-97f0-e67020197969",
   "metadata": {},
   "outputs": [],
   "source": [
    "df.iloc[50][\"name\"] = \"gdo karakedi\"\n",
    "df.iloc[51][\"name\"] = \"gurbetçi şaban\"\n",
    "df.iloc[52][\"name\"] = \"gönlümdeki köşk olmasa\"\n",
    "df.iloc[53][\"name\"] = \"gülizar\"\n",
    "df.iloc[54][\"name\"] = \"güneşi gördüm\"\n",
    "df.iloc[55][\"name\"] = \"hababam sınıfı askerde\"\n",
    "df.iloc[56][\"name\"] = \"hababam sınıfı dokuz doğuruyor\"\n",
    "df.iloc[57][\"name\"] = \"hababam sınıfı güle güle\"\n",
    "df.iloc[58][\"name\"] = \"hababam sınıfı merhaba\"\n",
    "df.iloc[59][\"name\"] = \"hababam sınıfı uyanıyor\""
   ]
  },
  {
   "cell_type": "code",
   "execution_count": 117,
   "id": "e201011d-7ff0-435f-8651-9644f156877b",
   "metadata": {},
   "outputs": [],
   "source": [
    "df.iloc[60][\"name\"] = \"hababam sınıfı\"\n",
    "df.iloc[61][\"name\"] = \"hababam sınıfı üç buçuk\"\n",
    "df.iloc[62][\"name\"] = \"hayalet dayı\"\n",
    "df.iloc[63][\"name\"] = \"hayattan korkma\"\n",
    "df.iloc[64][\"name\"] = \"helak kayıp köy\"\n",
    "df.iloc[65][\"name\"] = \"hemşo\"\n",
    "df.iloc[66][\"name\"] = \"hep yek\"\n",
    "df.iloc[67][\"name\"] = \"her şey güzel olacak\"\n",
    "df.iloc[68][\"name\"] = \"her şey aşktan\"\n",
    "df.iloc[69][\"name\"] = \"horoz bayram\""
   ]
  },
  {
   "cell_type": "code",
   "execution_count": 118,
   "id": "c66ab6d9-eed7-4ae0-926c-b5fb983e2ea3",
   "metadata": {},
   "outputs": [],
   "source": [
    "df.iloc[70][\"name\"] = \"hızlı adımlar\"\n",
    "df.iloc[71][\"name\"] = \"ıssız adam\"\n",
    "df.iloc[72][\"name\"] = \"isyan\"\n",
    "df.iloc[73][\"name\"] = \"kapıcılar kralı\"\n",
    "df.iloc[74][\"name\"] = \"kar kırmızı\"\n",
    "df.iloc[75][\"name\"] = \"karpuz kabuğundan gemiler yapmak\"\n",
    "df.iloc[76][\"name\"] = \"kayıp cennet insanları\"\n",
    "df.iloc[77][\"name\"] = \"keloğlan ile cankız\"\n",
    "df.iloc[78][\"name\"] = \"keloğlan\"\n",
    "df.iloc[79][\"name\"] = \"kendime iyi bak\""
   ]
  },
  {
   "cell_type": "code",
   "execution_count": 119,
   "id": "e946455a-ce7d-4c56-b8a1-fc89016ec6f1",
   "metadata": {},
   "outputs": [],
   "source": [
    "df.iloc[80][\"name\"] = \"kim daha mutlu\"\n",
    "df.iloc[81][\"name\"] = \"kimse bizi konuşmasın\"\n",
    "df.iloc[82][\"name\"] = \"koca bulma sanatı\"\n",
    "df.iloc[83][\"name\"] = \"kolpaçino\"\n",
    "df.iloc[84][\"name\"] = \"koğuştaki mucize\"\n",
    "df.iloc[85][\"name\"] = \"kubilay\"\n",
    "df.iloc[86][\"name\"] = \"karpuz kabuğundan gemiler yapmak\"\n",
    "df.iloc[87][\"name\"] = \"kusursuz\"\n",
    "df.iloc[88][\"name\"] = \"kutsal damacana 2 itmen\"\n",
    "df.iloc[89][\"name\"] = \"kutsal damacana\""
   ]
  },
  {
   "cell_type": "code",
   "execution_count": 120,
   "id": "d1238995-d170-4174-8cd5-6787503caa52",
   "metadata": {},
   "outputs": [],
   "source": [
    "df.iloc[90][\"name\"] = \"köy düğünü\"\n",
    "df.iloc[91][\"name\"] = \"köyden indim şehire\"\n",
    "df.iloc[92][\"name\"] = \"köçek\"\n",
    "df.iloc[93][\"name\"] = \"küçük ortak\"\n",
    "df.iloc[94][\"name\"] = \"kılıbık\"\n",
    "df.iloc[95][\"name\"] = \"kızım gibi kokuyorsun\"\n",
    "df.iloc[96][\"name\"] = \"kızım için\"\n",
    "df.iloc[97][\"name\"] = \"leblebi tozu\"\n",
    "df.iloc[98][\"name\"] = \"mahlukat\"\n",
    "df.iloc[99][\"name\"] = \"malkoçoğlu ve cem sultan\""
   ]
  },
  {
   "cell_type": "code",
   "execution_count": 121,
   "id": "8fa5de7c-e0d4-4b67-8887-f841dfc82ff1",
   "metadata": {},
   "outputs": [],
   "source": [
    "df.iloc[100][\"name\"] = \"mandıra filozofu\"\n",
    "df.iloc[101][\"name\"] = \"mandıra filozofu\"\n",
    "df.iloc[102][\"name\"] = \"mandıra filozofu istanbul\"\n",
    "df.iloc[103][\"name\"] = \"maskeler de düşer\"\n",
    "df.iloc[104][\"name\"] = \"maskeli beşler kıbrıs\"\n",
    "df.iloc[105][\"name\"] = \"melun\"\n",
    "df.iloc[106][\"name\"] = \"memleket\"\n",
    "df.iloc[107][\"name\"] = \"memleket\"\n",
    "df.iloc[108][\"name\"] = \"meryem\"\n",
    "df.iloc[109][\"name\"] = \"meteler\""
   ]
  },
  {
   "cell_type": "code",
   "execution_count": 122,
   "id": "b792f104-c825-4019-a96c-f8eb59f78414",
   "metadata": {},
   "outputs": [],
   "source": [
    "df.iloc[110][\"name\"] = \"mevsim çiçek açtı\"\n",
    "df.iloc[111][\"name\"] = \"mezarlık\"\n",
    "df.iloc[112][\"name\"] = \"misafir\"\n",
    "df.iloc[113][\"name\"] = \"mommo kız kardeşim\"\n",
    "df.iloc[114][\"name\"] = \"mucize\"\n",
    "df.iloc[115][\"name\"] = \"muhalif başkan\"\n",
    "df.iloc[116][\"name\"] = \"muhallebicinin oğlu\"\n",
    "df.iloc[117][\"name\"] = \"musabbar\"\n",
    "df.iloc[118][\"name\"] = \"musallat 1\"\n",
    "df.iloc[119][\"name\"] = \"musallat 2\""
   ]
  },
  {
   "cell_type": "code",
   "execution_count": 123,
   "id": "f2453bed-1d7b-499f-af19-175e84416c1f",
   "metadata": {},
   "outputs": [],
   "source": [
    "df.iloc[120][\"name\"] = \"musallat\"\n",
    "df.iloc[121][\"name\"] = \"musallat\"\n",
    "df.iloc[122][\"name\"] = \"mutluluk\"\n",
    "df.iloc[123][\"name\"] = \"namuslu\"\n",
    "df.iloc[124][\"name\"] = \"nasıl yani\"\n",
    "df.iloc[125][\"name\"] = \"neredesin firuze\"\n",
    "df.iloc[126][\"name\"] = \"new yorkta beş minare\"\n",
    "df.iloc[127][\"name\"] = \"neşeli günler\"\n",
    "df.iloc[128][\"name\"] = \"oldu mu şimdi\"\n",
    "df.iloc[129][\"name\"] = \"olur olur\""
   ]
  },
  {
   "cell_type": "code",
   "execution_count": 124,
   "id": "1b5adccb-a034-4139-aa6c-08dbe58db54f",
   "metadata": {},
   "outputs": [],
   "source": [
    "df.iloc[130][\"name\"] = \"orada\"\n",
    "df.iloc[131][\"name\"] = \"organik aşk hikayeleri\"\n",
    "df.iloc[132][\"name\"] = \"pardon\"\n",
    "df.iloc[133][\"name\"] = \"peri masalı\"\n",
    "df.iloc[134][\"name\"] = \"postacı\"\n",
    "df.iloc[135][\"name\"] = \"propaganda\"\n",
    "df.iloc[136][\"name\"] = \"robinson crusoe ve cuma\"\n",
    "df.iloc[137][\"name\"] = \"rüzgar\"\n",
    "df.iloc[138][\"name\"] = \"sadece sen\"\n",
    "df.iloc[139][\"name\"] = \"sarmaşık gülleri\""
   ]
  },
  {
   "cell_type": "code",
   "execution_count": 125,
   "id": "d0e6bfda-3dd6-4279-ad50-72559d4af9fa",
   "metadata": {},
   "outputs": [],
   "source": [
    "df.iloc[140][\"name\"] = \"sağ salim\"\n",
    "df.iloc[141][\"name\"] = \"selvi boylum al yazmalım\"\n",
    "df.iloc[142][\"name\"] = \"sevimli tehlikeli\"\n",
    "df.iloc[143][\"name\"] = \"siccin 8\"\n",
    "df.iloc[144][\"name\"] = \"siccin 4\"\n",
    "df.iloc[145][\"name\"] = \"siccin 5\"\n",
    "df.iloc[146][\"name\"] = \"siccin 6\"\n",
    "df.iloc[147][\"name\"] = \"sihirbazlık okulunda bir türk\"\n",
    "df.iloc[148][\"name\"] = \"sir ayet 2\"\n",
    "df.iloc[149][\"name\"] = \"son mektup\""
   ]
  },
  {
   "cell_type": "code",
   "execution_count": 126,
   "id": "45448169-4741-4535-9769-5843aa629694",
   "metadata": {},
   "outputs": [],
   "source": [
    "df.iloc[150][\"name\"] = \"son urfalı\"\n",
    "df.iloc[151][\"name\"] = \"sosyete şaban\"\n",
    "df.iloc[152][\"name\"] = \"sosyetik gelin\"\n",
    "df.iloc[153][\"name\"] = \"su ve ateş\"\n",
    "df.iloc[154][\"name\"] = \"suveyda\"\n",
    "df.iloc[155][\"name\"] = \"siccin 1\"\n",
    "df.iloc[156][\"name\"] = \"sır cocukları\"\n",
    "df.iloc[157][\"name\"] = \"taş mektep\"\n",
    "df.iloc[158][\"name\"] = \"terkedilmiş\"\n",
    "df.iloc[159][\"name\"] = \"tersine dünya\""
   ]
  },
  {
   "cell_type": "code",
   "execution_count": 127,
   "id": "e5f26238-6de6-45e0-a054-6c57b3714d09",
   "metadata": {},
   "outputs": [],
   "source": [
    "df.iloc[160][\"name\"] = \"tosun paşa\"\n",
    "df.iloc[161][\"name\"] = \"türk\"\n",
    "df.iloc[162][\"name\"] = \"tutku\"\n",
    "df.iloc[163][\"name\"] = \"tutmayın beni\"\n",
    "df.iloc[164][\"name\"] = \"türk\"\n",
    "df.iloc[165][\"name\"] = \"türk işi korku filmi\"\n",
    "df.iloc[166][\"name\"] = \"türkler çıldırmış olmalı\"\n",
    "df.iloc[167][\"name\"] = \"ulak\"\n",
    "df.iloc[168][\"name\"] = \"umudun son kırıntısı\"\n",
    "df.iloc[169][\"name\"] = \"vali\""
   ]
  },
  {
   "cell_type": "code",
   "execution_count": 128,
   "id": "917113e7-9d6c-4ec1-96d6-0381de322b93",
   "metadata": {},
   "outputs": [],
   "source": [
    "df.iloc[170][\"name\"] = \"vay başıma gelenler 2 buçuk\"\n",
    "df.iloc[171][\"name\"] = \"ve panayır köyden gider\"\n",
    "df.iloc[172][\"name\"] = \"vezir parmağı\"\n",
    "df.iloc[173][\"name\"] = \"ammar 2\"\n",
    "df.iloc[174][\"name\"] = \"ayla savaşın kızı\"\n",
    "df.iloc[175][\"name\"] = \"babam ve oğlum\"\n",
    "df.iloc[176][\"name\"] = \"helak kayıp köy\"\n",
    "df.iloc[177][\"name\"] = \"kolpaçino bomba\"\n",
    "df.iloc[178][\"name\"] = \"maskeli beşler\"\n",
    "df.iloc[179][\"name\"] = \"moskovanın şifresi temel\""
   ]
  },
  {
   "cell_type": "code",
   "execution_count": 129,
   "id": "1cc2c0c7-8333-443e-bd05-4c8b09ccc408",
   "metadata": {},
   "outputs": [],
   "source": [
    "df.iloc[180][\"name\"] = \"mucize 2\"\n",
    "df.iloc[181][\"name\"] = \"ya sonra\"\n",
    "df.iloc[182][\"name\"] = \"yahşi batı\"\n",
    "df.iloc[183][\"name\"] = \"yalan dolan\"\n",
    "df.iloc[184][\"name\"] = \"yasaklı köy\"\n",
    "df.iloc[185][\"name\"] = \"yav he he\"\n",
    "df.iloc[186][\"name\"] = \"yav he he\"\n",
    "df.iloc[187][\"name\"] = \"yoksul\"\n",
    "df.iloc[188][\"name\"] = \"yol\"\n",
    "df.iloc[189][\"name\"] = \"yola çıkmak\"\n",
    "df.iloc[190][\"name\"] = \"yüz bin kibrit\""
   ]
  },
  {
   "cell_type": "code",
   "execution_count": 130,
   "id": "340de79d-9a9d-499b-a988-d8f5e4772c7b",
   "metadata": {},
   "outputs": [],
   "source": [
    "df.iloc[191][\"name\"] = \"yüz numaralı adam\"\n",
    "df.iloc[192][\"name\"] = \"zaman makinesi 1973\"\n",
    "df.iloc[193][\"name\"] = \"zıkkımın kökü\"\n",
    "df.iloc[194][\"name\"] = \"çakal\"\n",
    "df.iloc[195][\"name\"] = \"çöpçüler kralı\"\n",
    "df.iloc[196][\"name\"] = \"ölümlü dünya\"\n",
    "df.iloc[197][\"name\"] = \"öz hakiki karakol\"\n",
    "df.iloc[198][\"name\"] = \"öğretmen\"\n",
    "df.iloc[199][\"name\"] = \"üç kağıtçı\"\n",
    "df.iloc[200][\"name\"] = \"iki kafadar\""
   ]
  },
  {
   "cell_type": "code",
   "execution_count": 131,
   "id": "937362ce-4ba9-4e81-b998-a3109ecb8c8a",
   "metadata": {},
   "outputs": [],
   "source": [
    "df.iloc[201][\"name\"] = \"ikimize bir dünya\"\n",
    "df.iloc[202][\"name\"] = \"incir çekirdeği\"\n",
    "df.iloc[203][\"name\"] = \"içimdeki ses\"\n",
    "df.iloc[204][\"name\"] = \"şark bülbülü\"\n",
    "df.iloc[205][\"name\"] = \"şerri cin\"\n",
    "df.iloc[206][\"name\"] = \"şeytanı racim\"\n",
    "df.iloc[207][\"name\"] = \"hadi inşallah\""
   ]
  },
  {
   "cell_type": "markdown",
   "id": "188aeb34-ba8c-46f5-8c03-7d14ca2f027c",
   "metadata": {
    "jp-MarkdownHeadingCollapsed": true
   },
   "source": [
    "## Fill 'type' column"
   ]
  },
  {
   "cell_type": "code",
   "execution_count": 132,
   "id": "420a4d51-6911-4892-810b-3293118b17db",
   "metadata": {},
   "outputs": [],
   "source": [
    "df[\"type\"] = \"\""
   ]
  },
  {
   "cell_type": "code",
   "execution_count": 133,
   "id": "1e71a50d-baa0-4736-915f-344bef3e86c0",
   "metadata": {},
   "outputs": [],
   "source": [
    "df.loc[0, \"type\"] = \"KOMEDI\"\n",
    "df.loc[1, \"type\"] = \"DRAM\"\n",
    "df.loc[2, \"type\"] = \"DRAM\"\n",
    "df.loc[3, \"type\"] = \"DRAM\"\n",
    "df.loc[4, \"type\"] = \"KORKU\"\n",
    "df.loc[5, \"type\"] = \"DRAM\"\n",
    "df.loc[6, \"type\"] = \"ROMANTIK\"\n",
    "df.loc[7, \"type\"] = \"DRAM\"\n",
    "df.loc[8, \"type\"] = \"KORKU\"\n",
    "df.loc[9, \"type\"] = \"KOMEDI\""
   ]
  },
  {
   "cell_type": "code",
   "execution_count": 134,
   "id": "91041e2a-e966-4e74-b975-5e36c8107b94",
   "metadata": {},
   "outputs": [],
   "source": [
    "df.loc[10, \"type\"] = \"KORKU\"\n",
    "df.loc[11, \"type\"] = \"ROMANTIK\"\n",
    "df.loc[12, \"type\"] = \"ROMANTIK\"\n",
    "df.loc[13, \"type\"] = \"ROMANTIK\"\n",
    "df.loc[14, \"type\"] = \"DRAM\"\n",
    "df.loc[15, \"type\"] = \"DRAM\"\n",
    "df.loc[16, \"type\"] = \"DRAM\"\n",
    "df.loc[17, \"type\"] = \"AKSIYON\"\n",
    "df.loc[18, \"type\"] = \"DRAM\"\n",
    "df.loc[19, \"type\"] = \"KOMEDI\""
   ]
  },
  {
   "cell_type": "code",
   "execution_count": 135,
   "id": "842fb4fd-9da9-4904-891a-70ec44bf9e68",
   "metadata": {},
   "outputs": [],
   "source": [
    "df.loc[20, \"type\"] = \"KOMEDI\"\n",
    "df.loc[21, \"type\"] = \"KOMEDI\"\n",
    "df.loc[22, \"type\"] = \"DRAM\"\n",
    "df.loc[23, \"type\"] = \"KOMEDI\"\n",
    "df.loc[24, \"type\"] = \"DRAM\"\n",
    "df.loc[25, \"type\"] = \"KORKU\"\n",
    "df.loc[26, \"type\"] = \"KOMEDI\"\n",
    "df.loc[27, \"type\"] = \"KORKU\"\n",
    "df.loc[28, \"type\"] = \"KORKU\"\n",
    "df.loc[29, \"type\"] = \"KORKU\""
   ]
  },
  {
   "cell_type": "code",
   "execution_count": 136,
   "id": "010752ad-d8c5-495d-8b5c-18e19350feac",
   "metadata": {},
   "outputs": [],
   "source": [
    "df.loc[30, \"type\"] = \"KORKU\"\n",
    "df.loc[31, \"type\"] = \"KORKU\"\n",
    "df.loc[32, \"type\"] = \"KORKU\"\n",
    "df.loc[33, \"type\"] = \"KORKU\"\n",
    "df.loc[34, \"type\"] = \"KOMEDI\"\n",
    "df.loc[35, \"type\"] = \"DRAM\"\n",
    "df.loc[36, \"type\"] = \"KOMEDI\"\n",
    "df.loc[37, \"type\"] = \"KOMEDI\"\n",
    "df.loc[38, \"type\"] = \"KOMEDI\"\n",
    "df.loc[39, \"type\"] = \"DRAM\""
   ]
  },
  {
   "cell_type": "code",
   "execution_count": 137,
   "id": "f017b5db-9ae4-4439-ac26-14b115b7dde1",
   "metadata": {},
   "outputs": [],
   "source": [
    "df.loc[40, \"type\"] = \"KOMEDI\"\n",
    "df.loc[41, \"type\"] = \"KORKU\"\n",
    "df.loc[42, \"type\"] = \"ROMANTIK\"\n",
    "df.loc[43, \"type\"] = \"KOMEDI\"\n",
    "df.loc[44, \"type\"] = \"DRAM\"\n",
    "df.loc[45, \"type\"] = \"DRAM\"\n",
    "df.loc[46, \"type\"] = \"DRAM\"\n",
    "df.loc[47, \"type\"] = \"DRAM\"\n",
    "df.loc[48, \"type\"] = \"DRAM\"\n",
    "df.loc[49, \"type\"] = \"KORKU\""
   ]
  },
  {
   "cell_type": "code",
   "execution_count": 138,
   "id": "abcc83f1-9438-4425-9f7d-ec84291088f9",
   "metadata": {},
   "outputs": [],
   "source": [
    "df.loc[50, \"type\"] = \"KOMEDI\"\n",
    "df.loc[51, \"type\"] = \"KOMEDI\"\n",
    "df.loc[52, \"type\"] = \"DRAM\"\n",
    "df.loc[53, \"type\"] = \"DRAM\"\n",
    "df.loc[54, \"type\"] = \"DRAM\"\n",
    "df.loc[55, \"type\"] = \"KOMEDI\"\n",
    "df.loc[56, \"type\"] = \"KOMEDI\"\n",
    "df.loc[57, \"type\"] = \"KOMEDI\"\n",
    "df.loc[58, \"type\"] = \"KOMEDI\"\n",
    "df.loc[59, \"type\"] = \"KOMEDI\""
   ]
  },
  {
   "cell_type": "code",
   "execution_count": 139,
   "id": "83d9dac6-d80d-4b29-99ee-0ae6a1ee7a1d",
   "metadata": {},
   "outputs": [],
   "source": [
    "df.loc[60, \"type\"] = \"KOMEDI\"\n",
    "df.loc[61, \"type\"] = \"KOMEDI\"\n",
    "df.loc[62, \"type\"] = \"KOMEDI\"\n",
    "df.loc[63, \"type\"] = \"DRAM\"\n",
    "df.loc[64, \"type\"] = \"KORKU\"\n",
    "df.loc[65, \"type\"] = \"KOMEDI\"\n",
    "df.loc[66, \"type\"] = \"KOMEDI\"\n",
    "df.loc[67, \"type\"] = \"KOMEDI\"\n",
    "df.loc[68, \"type\"] = \"ROMANTIK\"\n",
    "df.loc[69, \"type\"] = \"KOMEDI\""
   ]
  },
  {
   "cell_type": "code",
   "execution_count": 140,
   "id": "c688ff0d-5302-492c-86e6-2ade38b49aab",
   "metadata": {},
   "outputs": [],
   "source": [
    "df.loc[70, \"type\"] = \"DRAM\"\n",
    "df.loc[71, \"type\"] = \"ROMANTIK\"\n",
    "df.loc[72, \"type\"] = \"DRAM\"\n",
    "df.loc[73, \"type\"] = \"KOMEDI\"\n",
    "df.loc[74, \"type\"] = \"DRAM\"\n",
    "df.loc[75, \"type\"] = \"DRAM\"\n",
    "df.loc[76, \"type\"] = \"DRAM\"\n",
    "df.loc[77, \"type\"] = \"KOMEDI\"\n",
    "df.loc[78, \"type\"] = \"KOMEDI\"\n",
    "df.loc[79, \"type\"] = \"ROMANTIK\""
   ]
  },
  {
   "cell_type": "code",
   "execution_count": 141,
   "id": "e6e25410-2b9e-441b-9f97-e9b12a403ea4",
   "metadata": {},
   "outputs": [],
   "source": [
    "df.loc[80, \"type\"] = \"KOMEDI\"\n",
    "df.loc[81, \"type\"] = \"DRAM\"\n",
    "df.loc[82, \"type\"] = \"KOMEDI\"\n",
    "df.loc[83, \"type\"] = \"KOMEDI\"\n",
    "df.loc[84, \"type\"] = \"DRAM\"\n",
    "df.loc[85, \"type\"] = \"DRAM\"\n",
    "df.loc[86, \"type\"] = \"DRAM\"\n",
    "df.loc[87, \"type\"] = \"DRAM\"\n",
    "df.loc[88, \"type\"] = \"KOMEDI\"\n",
    "df.loc[89, \"type\"] = \"KOMEDI\""
   ]
  },
  {
   "cell_type": "code",
   "execution_count": 142,
   "id": "06c5ee00-0dc3-4a6e-90bc-0b10065c5905",
   "metadata": {},
   "outputs": [],
   "source": [
    "df.loc[90, \"type\"] = \"KOMEDI\"\n",
    "df.loc[91, \"type\"] = \"KOMEDI\"\n",
    "df.loc[92, \"type\"] = \"DRAM\"\n",
    "df.loc[93, \"type\"] = \"KOMEDI\"\n",
    "df.loc[94, \"type\"] = \"KOMEDI\"\n",
    "df.loc[95, \"type\"] = \"DRAM\"\n",
    "df.loc[96, \"type\"] = \"DRAM\"\n",
    "df.loc[97, \"type\"] = \"KOMEDI\"\n",
    "df.loc[98, \"type\"] = \"KORKU\"\n",
    "df.loc[99, \"type\"] = \"AKSIYON\""
   ]
  },
  {
   "cell_type": "code",
   "execution_count": 143,
   "id": "7d677be1-db52-4fe0-8b10-0e6acb8beefe",
   "metadata": {},
   "outputs": [],
   "source": [
    "df.loc[100, \"type\"] = \"KOMEDI\"\n",
    "df.loc[101, \"type\"] = \"KOMEDI\"\n",
    "df.loc[102, \"type\"] = \"KOMEDI\"\n",
    "df.loc[103, \"type\"] = \"KOMEDI\"\n",
    "df.loc[104, \"type\"] = \"KOMEDI\"\n",
    "df.loc[105, \"type\"] = \"KORKU\"\n",
    "df.loc[106, \"type\"] = \"DRAM\"\n",
    "df.loc[107, \"type\"] = \"DRAM\"\n",
    "df.loc[108, \"type\"] = \"DRAM\"\n",
    "df.loc[109, \"type\"] = \"AKSIYON\"\n",
    "df.loc[110, \"type\"] = \"DRAM\"\n",
    "df.loc[111, \"type\"] = \"KORKU\"\n",
    "df.loc[112, \"type\"] = \"DRAM\"\n",
    "df.loc[113, \"type\"] = \"DRAM\"\n",
    "df.loc[114, \"type\"] = \"DRAM\"\n",
    "df.loc[115, \"type\"] = \"KOMEDI\"\n",
    "df.loc[116, \"type\"] = \"DRAM\"\n",
    "df.loc[117, \"type\"] = \"KORKU\"\n",
    "df.loc[118, \"type\"] = \"KORKU\"\n",
    "df.loc[119, \"type\"] = \"KORKU\"\n",
    "df.loc[120, \"type\"] = \"KORKU\"\n",
    "df.loc[121, \"type\"] = \"KORKU\"\n",
    "df.loc[122, \"type\"] = \"DRAM\"\n",
    "df.loc[123, \"type\"] = \"KOMEDI\"\n",
    "df.loc[124, \"type\"] = \"KOMEDI\"\n",
    "df.loc[125, \"type\"] = \"KOMEDI\"\n",
    "df.loc[126, \"type\"] = \"KOMEDI\"\n",
    "df.loc[127, \"type\"] = \"KOMEDI\"\n",
    "df.loc[128, \"type\"] = \"KOMEDI\"\n",
    "df.loc[129, \"type\"] = \"KOMEDI\"\n",
    "df.loc[130, \"type\"] = \"DRAM\"\n",
    "df.loc[131, \"type\"] = \"ROMANTIK\"\n",
    "df.loc[132, \"type\"] = \"KOMEDI\"\n",
    "df.loc[133, \"type\"] = \"KOMEDI\"\n",
    "df.loc[134, \"type\"] = \"KOMEDI\"\n",
    "df.loc[135, \"type\"] = \"DRAM\"\n",
    "df.loc[136, \"type\"] = \"KOMEDI\"\n",
    "df.loc[137, \"type\"] = \"DRAM\"\n",
    "df.loc[138, \"type\"] = \"DRAM\"\n",
    "df.loc[139, \"type\"] = \"DRAM\"\n",
    "df.loc[140, \"type\"] = \"KOMEDI\"\n",
    "df.loc[141, \"type\"] = \"DRAM\"\n",
    "df.loc[142, \"type\"] = \"KOMEDI\"\n",
    "df.loc[143, \"type\"] = \"KORKU\"\n",
    "df.loc[144, \"type\"] = \"KORKU\"\n",
    "df.loc[145, \"type\"] = \"KORKU\"\n",
    "df.loc[146, \"type\"] = \"KORKU\"\n",
    "df.loc[147, \"type\"] = \"KOMEDI\"\n",
    "df.loc[148, \"type\"] = \"KORKU\"\n",
    "df.loc[149, \"type\"] = \"DRAM\"\n",
    "df.loc[150, \"type\"] = \"DRAM\"\n",
    "df.loc[151, \"type\"] = \"KOMEDI\"\n",
    "df.loc[152, \"type\"] = \"KOMEDI\"\n",
    "df.loc[153, \"type\"] = \"DRAM\"\n",
    "df.loc[154, \"type\"] = \"DRAM\"\n",
    "df.loc[155, \"type\"] = \"KORKU\"\n",
    "df.loc[156, \"type\"] = \"DRAM\"\n",
    "df.loc[157, \"type\"] = \"DRAM\"\n",
    "df.loc[158, \"type\"] = \"KORKU\"\n",
    "df.loc[159, \"type\"] = \"KOMEDI\"\n",
    "df.loc[160, \"type\"] = \"KOMEDI\"\n",
    "df.loc[161, \"type\"] = \"DRAM\"\n",
    "df.loc[162, \"type\"] = \"ROMANTIK\"\n",
    "df.loc[163, \"type\"] = \"KOMEDI\"\n",
    "df.loc[164, \"type\"] = \"DRAM\"\n",
    "df.loc[165, \"type\"] = \"KORKU\"\n",
    "df.loc[166, \"type\"] = \"KOMEDI\"\n",
    "df.loc[167, \"type\"] = \"DRAM\"\n",
    "df.loc[168, \"type\"] = \"DRAM\"\n",
    "df.loc[169, \"type\"] = \"AKSIYON\"\n",
    "df.loc[170, \"type\"] = \"KOMEDI\"\n",
    "df.loc[171, \"type\"] = \"DRAM\"\n",
    "df.loc[172, \"type\"] = \"KOMEDI\"\n",
    "df.loc[173, \"type\"] = \"KORKU\"\n",
    "df.loc[174, \"type\"] = \"DRAM\"\n",
    "df.loc[175, \"type\"] = \"DRAM\"\n",
    "df.loc[176, \"type\"] = \"KORKU\"\n",
    "df.loc[177, \"type\"] = \"KOMEDI\"\n",
    "df.loc[178, \"type\"] = \"KOMEDI\"\n",
    "df.loc[179, \"type\"] = \"KOMEDI\"\n",
    "df.loc[180, \"type\"] = \"DRAM\"\n",
    "df.loc[181, \"type\"] = \"ROMANTIK\"\n",
    "df.loc[182, \"type\"] = \"KOMEDI\"\n",
    "df.loc[183, \"type\"] = \"KOMEDI\"\n",
    "df.loc[184, \"type\"] = \"KORKU\"\n",
    "df.loc[185, \"type\"] = \"KOMEDI\"\n",
    "df.loc[186, \"type\"] = \"KOMEDI\"\n",
    "df.loc[187, \"type\"] = \"KOMEDI\"\n",
    "df.loc[188, \"type\"] = \"DRAM\"\n",
    "df.loc[189, \"type\"] = \"DRAM\"\n",
    "df.loc[190, \"type\"] = \"KOMEDI\"\n",
    "df.loc[191, \"type\"] = \"KOMEDI\"\n",
    "df.loc[192, \"type\"] = \"KOMEDI\"\n",
    "df.loc[193, \"type\"] = \"DRAM\"\n",
    "df.loc[194, \"type\"] = \"AKSIYON\"\n",
    "df.loc[195, \"type\"] = \"KOMEDI\"\n",
    "df.loc[196, \"type\"] = \"AKSIYON\"\n",
    "df.loc[197, \"type\"] = \"KOMEDI\"\n",
    "df.loc[198, \"type\"] = \"KOMEDI\"\n",
    "df.loc[199, \"type\"] = \"KOMEDI\"\n",
    "df.loc[200, \"type\"] = \"KOMEDI\"\n",
    "df.loc[201, \"type\"] = \"DRAM\"\n",
    "df.loc[202, \"type\"] = \"DRAM\"\n",
    "df.loc[203, \"type\"] = \"KOMEDI\"\n",
    "df.loc[204, \"type\"] = \"KOMEDI\"\n",
    "df.loc[205, \"type\"] = \"KORKU\"\n",
    "df.loc[206, \"type\"] = \"KORKU\"\n",
    "df.loc[207, \"type\"] = \"KOMEDI\""
   ]
  },
  {
   "cell_type": "markdown",
   "id": "8f718ec2-c50c-4b96-9d0a-2261ce9cc50f",
   "metadata": {},
   "source": [
    "## Save the dataframe "
   ]
  },
  {
   "cell_type": "code",
   "execution_count": 144,
   "id": "22f1054d-80a6-4bae-9ca0-10742bc6d9e5",
   "metadata": {},
   "outputs": [],
   "source": [
    "df.to_csv(\"cleaned_full.csv\", sep=\",\", index=False)"
   ]
  },
  {
   "cell_type": "code",
   "execution_count": 145,
   "id": "79e79876-c145-4082-bf0c-99c1a0e4db16",
   "metadata": {},
   "outputs": [
    {
     "data": {
      "text/html": [
       "<div>\n",
       "<style scoped>\n",
       "    .dataframe tbody tr th:only-of-type {\n",
       "        vertical-align: middle;\n",
       "    }\n",
       "\n",
       "    .dataframe tbody tr th {\n",
       "        vertical-align: top;\n",
       "    }\n",
       "\n",
       "    .dataframe thead th {\n",
       "        text-align: right;\n",
       "    }\n",
       "</style>\n",
       "<table border=\"1\" class=\"dataframe\">\n",
       "  <thead>\n",
       "    <tr style=\"text-align: right;\">\n",
       "      <th></th>\n",
       "      <th>name</th>\n",
       "      <th>transcript</th>\n",
       "      <th>type</th>\n",
       "    </tr>\n",
       "  </thead>\n",
       "  <tbody>\n",
       "    <tr>\n",
       "      <th>0</th>\n",
       "      <td>AROG</td>\n",
       "      <td>bak ne diyor logarı ne diyor diyor ki alın diy...</td>\n",
       "      <td>KOMEDI</td>\n",
       "    </tr>\n",
       "    <tr>\n",
       "      <th>1</th>\n",
       "      <td>Abimm</td>\n",
       "      <td>bu dizinin betimlemesi trt tarafından sesli be...</td>\n",
       "      <td>DRAM</td>\n",
       "    </tr>\n",
       "    <tr>\n",
       "      <th>2</th>\n",
       "      <td>Acıların Kadını Bergen</td>\n",
       "      <td>yıllar yıllık dert yolunda ne ilk neden sonunc...</td>\n",
       "      <td>DRAM</td>\n",
       "    </tr>\n",
       "    <tr>\n",
       "      <th>3</th>\n",
       "      <td>Allahın Evi</td>\n",
       "      <td>allah şüphesiz alemlere bereket ve hidayet kay...</td>\n",
       "      <td>DRAM</td>\n",
       "    </tr>\n",
       "    <tr>\n",
       "      <th>4</th>\n",
       "      <td>Arekalar ve Cinler</td>\n",
       "      <td>sude sude neredesin korkuyorum neredesin sude ...</td>\n",
       "      <td>KORKU</td>\n",
       "    </tr>\n",
       "    <tr>\n",
       "      <th>...</th>\n",
       "      <td>...</td>\n",
       "      <td>...</td>\n",
       "      <td>...</td>\n",
       "    </tr>\n",
       "    <tr>\n",
       "      <th>203</th>\n",
       "      <td>içimdeki ses</td>\n",
       "      <td>bu dizinin betimlemesi trt tarafından sesli be...</td>\n",
       "      <td>KOMEDI</td>\n",
       "    </tr>\n",
       "    <tr>\n",
       "      <th>204</th>\n",
       "      <td>şark bülbülü</td>\n",
       "      <td>bu dizinin betimlemesi trt tarafından sesli be...</td>\n",
       "      <td>KOMEDI</td>\n",
       "    </tr>\n",
       "    <tr>\n",
       "      <th>205</th>\n",
       "      <td>şerri cin</td>\n",
       "      <td>çok korkuyorum ne olur kalk artık ana beni bır...</td>\n",
       "      <td>KORKU</td>\n",
       "    </tr>\n",
       "    <tr>\n",
       "      <th>206</th>\n",
       "      <td>şeytanı racim</td>\n",
       "      <td>odama niye girdin lan ne odası odama niye gird...</td>\n",
       "      <td>KORKU</td>\n",
       "    </tr>\n",
       "    <tr>\n",
       "      <th>207</th>\n",
       "      <td>hadi inşallah</td>\n",
       "      <td>intro müzik müzik müzik müzik müzik müzik müzi...</td>\n",
       "      <td>KOMEDI</td>\n",
       "    </tr>\n",
       "  </tbody>\n",
       "</table>\n",
       "<p>208 rows × 3 columns</p>\n",
       "</div>"
      ],
      "text/plain": [
       "                       name  \\\n",
       "0                      AROG   \n",
       "1                     Abimm   \n",
       "2    Acıların Kadını Bergen   \n",
       "3               Allahın Evi   \n",
       "4        Arekalar ve Cinler   \n",
       "..                      ...   \n",
       "203            içimdeki ses   \n",
       "204            şark bülbülü   \n",
       "205               şerri cin   \n",
       "206           şeytanı racim   \n",
       "207           hadi inşallah   \n",
       "\n",
       "                                            transcript    type  \n",
       "0    bak ne diyor logarı ne diyor diyor ki alın diy...  KOMEDI  \n",
       "1    bu dizinin betimlemesi trt tarafından sesli be...    DRAM  \n",
       "2    yıllar yıllık dert yolunda ne ilk neden sonunc...    DRAM  \n",
       "3    allah şüphesiz alemlere bereket ve hidayet kay...    DRAM  \n",
       "4    sude sude neredesin korkuyorum neredesin sude ...   KORKU  \n",
       "..                                                 ...     ...  \n",
       "203  bu dizinin betimlemesi trt tarafından sesli be...  KOMEDI  \n",
       "204  bu dizinin betimlemesi trt tarafından sesli be...  KOMEDI  \n",
       "205  çok korkuyorum ne olur kalk artık ana beni bır...   KORKU  \n",
       "206  odama niye girdin lan ne odası odama niye gird...   KORKU  \n",
       "207  intro müzik müzik müzik müzik müzik müzik müzi...  KOMEDI  \n",
       "\n",
       "[208 rows x 3 columns]"
      ]
     },
     "execution_count": 145,
     "metadata": {},
     "output_type": "execute_result"
    }
   ],
   "source": [
    "df = pd.read_csv(\"cleaned_full.csv\")\n",
    "df"
   ]
  },
  {
   "cell_type": "code",
   "execution_count": 146,
   "id": "8c4587ac-0e63-4f3a-871e-13504572d96a",
   "metadata": {},
   "outputs": [
    {
     "data": {
      "text/plain": [
       "Index(['name', 'transcript', 'type'], dtype='object')"
      ]
     },
     "execution_count": 146,
     "metadata": {},
     "output_type": "execute_result"
    }
   ],
   "source": [
    "df.columns"
   ]
  },
  {
   "cell_type": "code",
   "execution_count": 155,
   "id": "59b28499-2ea5-435d-87b8-baa6cbd2a893",
   "metadata": {},
   "outputs": [
    {
     "data": {
      "image/png": "[encoded data removed]",
      "text/plain": [
       "<Figure size 640x480 with 1 Axes>"
      ]
     },
     "metadata": {},
     "output_type": "display_data"
    }
   ],
   "source": [
    "import matplotlib.pyplot as plt\n",
    "\n",
    "type_counts = df[\"type\"].value_counts()\n",
    "plt.pie(type_counts, labels=None, autopct='%1.1f%%', startangle=90)\n",
    "\n",
    "plt.axis('equal')  \n",
    "plt.legend(labels=type_counts.index, loc='lower left')\n",
    "plt.show()"
   ]
  }
 ],
 "metadata": {
  "kernelspec": {
   "display_name": "ml",
   "language": "python",
   "name": "ml"
  },
  "language_info": {
   "codemirror_mode": {
    "name": "ipython",
    "version": 3
   },
   "file_extension": ".py",
   "mimetype": "text/x-python",
   "name": "python",
   "nbconvert_exporter": "python",
   "pygments_lexer": "ipython3",
   "version": "3.11.3"
  }
 },
 "nbformat": 4,
 "nbformat_minor": 5
}
